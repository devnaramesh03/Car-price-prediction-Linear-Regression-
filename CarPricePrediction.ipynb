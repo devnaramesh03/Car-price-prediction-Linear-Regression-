{
 "cells": [
  {
   "cell_type": "code",
   "execution_count": 185,
   "id": "38bd012c",
   "metadata": {},
   "outputs": [],
   "source": [
    "import pandas as pd"
   ]
  },
  {
   "attachments": {},
   "cell_type": "markdown",
   "id": "f6e1f50c",
   "metadata": {},
   "source": [
    "Dataset - https://www.kaggle.com/datasets/smritisingh1997/car-salescsv"
   ]
  },
  {
   "cell_type": "code",
   "execution_count": 186,
   "id": "8558c199",
   "metadata": {},
   "outputs": [],
   "source": [
    "cars_data=pd.read_csv('/1.04. Real-life example.csv')"
   ]
  },
  {
   "cell_type": "markdown",
   "id": "3ebea919",
   "metadata": {},
   "source": [
    "We are trying to predict the car price using its features like mileage, engine, brand, body"
   ]
  },
  {
   "cell_type": "markdown",
   "id": "eae6cb04",
   "metadata": {},
   "source": [
    "#1)Summarize the data. How much data is present? What attributes/features are continuous valued? Which attributes are categorical?"
   ]
  },
  {
   "cell_type": "code",
   "execution_count": 187,
   "id": "1aed29bc",
   "metadata": {},
   "outputs": [
    {
     "data": {
      "text/plain": [
       "(4345, 9)"
      ]
     },
     "execution_count": 187,
     "metadata": {},
     "output_type": "execute_result"
    }
   ],
   "source": [
    "cars_data.shape"
   ]
  },
  {
   "cell_type": "markdown",
   "id": "acae863c",
   "metadata": {},
   "source": [
    "9 features and 4345 records"
   ]
  },
  {
   "cell_type": "code",
   "execution_count": 188,
   "id": "cc610eb3",
   "metadata": {},
   "outputs": [
    {
     "data": {
      "text/html": [
       "<div>\n",
       "<style scoped>\n",
       "    .dataframe tbody tr th:only-of-type {\n",
       "        vertical-align: middle;\n",
       "    }\n",
       "\n",
       "    .dataframe tbody tr th {\n",
       "        vertical-align: top;\n",
       "    }\n",
       "\n",
       "    .dataframe thead th {\n",
       "        text-align: right;\n",
       "    }\n",
       "</style>\n",
       "<table border=\"1\" class=\"dataframe\">\n",
       "  <thead>\n",
       "    <tr style=\"text-align: right;\">\n",
       "      <th></th>\n",
       "      <th>Brand</th>\n",
       "      <th>Price</th>\n",
       "      <th>Body</th>\n",
       "      <th>Mileage</th>\n",
       "      <th>EngineV</th>\n",
       "      <th>Engine Type</th>\n",
       "      <th>Registration</th>\n",
       "      <th>Year</th>\n",
       "      <th>Model</th>\n",
       "    </tr>\n",
       "  </thead>\n",
       "  <tbody>\n",
       "    <tr>\n",
       "      <th>count</th>\n",
       "      <td>4345</td>\n",
       "      <td>4173.000000</td>\n",
       "      <td>4345</td>\n",
       "      <td>4345.000000</td>\n",
       "      <td>4195.000000</td>\n",
       "      <td>4345</td>\n",
       "      <td>4345</td>\n",
       "      <td>4345.000000</td>\n",
       "      <td>4345</td>\n",
       "    </tr>\n",
       "    <tr>\n",
       "      <th>unique</th>\n",
       "      <td>7</td>\n",
       "      <td>NaN</td>\n",
       "      <td>6</td>\n",
       "      <td>NaN</td>\n",
       "      <td>NaN</td>\n",
       "      <td>4</td>\n",
       "      <td>2</td>\n",
       "      <td>NaN</td>\n",
       "      <td>312</td>\n",
       "    </tr>\n",
       "    <tr>\n",
       "      <th>top</th>\n",
       "      <td>Volkswagen</td>\n",
       "      <td>NaN</td>\n",
       "      <td>sedan</td>\n",
       "      <td>NaN</td>\n",
       "      <td>NaN</td>\n",
       "      <td>Diesel</td>\n",
       "      <td>yes</td>\n",
       "      <td>NaN</td>\n",
       "      <td>E-Class</td>\n",
       "    </tr>\n",
       "    <tr>\n",
       "      <th>freq</th>\n",
       "      <td>936</td>\n",
       "      <td>NaN</td>\n",
       "      <td>1649</td>\n",
       "      <td>NaN</td>\n",
       "      <td>NaN</td>\n",
       "      <td>2019</td>\n",
       "      <td>3947</td>\n",
       "      <td>NaN</td>\n",
       "      <td>199</td>\n",
       "    </tr>\n",
       "    <tr>\n",
       "      <th>mean</th>\n",
       "      <td>NaN</td>\n",
       "      <td>19418.746935</td>\n",
       "      <td>NaN</td>\n",
       "      <td>161.237284</td>\n",
       "      <td>2.790734</td>\n",
       "      <td>NaN</td>\n",
       "      <td>NaN</td>\n",
       "      <td>2006.550058</td>\n",
       "      <td>NaN</td>\n",
       "    </tr>\n",
       "    <tr>\n",
       "      <th>std</th>\n",
       "      <td>NaN</td>\n",
       "      <td>25584.242620</td>\n",
       "      <td>NaN</td>\n",
       "      <td>105.705797</td>\n",
       "      <td>5.066437</td>\n",
       "      <td>NaN</td>\n",
       "      <td>NaN</td>\n",
       "      <td>6.719097</td>\n",
       "      <td>NaN</td>\n",
       "    </tr>\n",
       "    <tr>\n",
       "      <th>min</th>\n",
       "      <td>NaN</td>\n",
       "      <td>600.000000</td>\n",
       "      <td>NaN</td>\n",
       "      <td>0.000000</td>\n",
       "      <td>0.600000</td>\n",
       "      <td>NaN</td>\n",
       "      <td>NaN</td>\n",
       "      <td>1969.000000</td>\n",
       "      <td>NaN</td>\n",
       "    </tr>\n",
       "    <tr>\n",
       "      <th>25%</th>\n",
       "      <td>NaN</td>\n",
       "      <td>6999.000000</td>\n",
       "      <td>NaN</td>\n",
       "      <td>86.000000</td>\n",
       "      <td>1.800000</td>\n",
       "      <td>NaN</td>\n",
       "      <td>NaN</td>\n",
       "      <td>2003.000000</td>\n",
       "      <td>NaN</td>\n",
       "    </tr>\n",
       "    <tr>\n",
       "      <th>50%</th>\n",
       "      <td>NaN</td>\n",
       "      <td>11500.000000</td>\n",
       "      <td>NaN</td>\n",
       "      <td>155.000000</td>\n",
       "      <td>2.200000</td>\n",
       "      <td>NaN</td>\n",
       "      <td>NaN</td>\n",
       "      <td>2008.000000</td>\n",
       "      <td>NaN</td>\n",
       "    </tr>\n",
       "    <tr>\n",
       "      <th>75%</th>\n",
       "      <td>NaN</td>\n",
       "      <td>21700.000000</td>\n",
       "      <td>NaN</td>\n",
       "      <td>230.000000</td>\n",
       "      <td>3.000000</td>\n",
       "      <td>NaN</td>\n",
       "      <td>NaN</td>\n",
       "      <td>2012.000000</td>\n",
       "      <td>NaN</td>\n",
       "    </tr>\n",
       "    <tr>\n",
       "      <th>max</th>\n",
       "      <td>NaN</td>\n",
       "      <td>300000.000000</td>\n",
       "      <td>NaN</td>\n",
       "      <td>980.000000</td>\n",
       "      <td>99.990000</td>\n",
       "      <td>NaN</td>\n",
       "      <td>NaN</td>\n",
       "      <td>2016.000000</td>\n",
       "      <td>NaN</td>\n",
       "    </tr>\n",
       "  </tbody>\n",
       "</table>\n",
       "</div>"
      ],
      "text/plain": [
       "             Brand          Price   Body      Mileage      EngineV  \\\n",
       "count         4345    4173.000000   4345  4345.000000  4195.000000   \n",
       "unique           7            NaN      6          NaN          NaN   \n",
       "top     Volkswagen            NaN  sedan          NaN          NaN   \n",
       "freq           936            NaN   1649          NaN          NaN   \n",
       "mean           NaN   19418.746935    NaN   161.237284     2.790734   \n",
       "std            NaN   25584.242620    NaN   105.705797     5.066437   \n",
       "min            NaN     600.000000    NaN     0.000000     0.600000   \n",
       "25%            NaN    6999.000000    NaN    86.000000     1.800000   \n",
       "50%            NaN   11500.000000    NaN   155.000000     2.200000   \n",
       "75%            NaN   21700.000000    NaN   230.000000     3.000000   \n",
       "max            NaN  300000.000000    NaN   980.000000    99.990000   \n",
       "\n",
       "       Engine Type Registration         Year    Model  \n",
       "count         4345         4345  4345.000000     4345  \n",
       "unique           4            2          NaN      312  \n",
       "top         Diesel          yes          NaN  E-Class  \n",
       "freq          2019         3947          NaN      199  \n",
       "mean           NaN          NaN  2006.550058      NaN  \n",
       "std            NaN          NaN     6.719097      NaN  \n",
       "min            NaN          NaN  1969.000000      NaN  \n",
       "25%            NaN          NaN  2003.000000      NaN  \n",
       "50%            NaN          NaN  2008.000000      NaN  \n",
       "75%            NaN          NaN  2012.000000      NaN  \n",
       "max            NaN          NaN  2016.000000      NaN  "
      ]
     },
     "execution_count": 188,
     "metadata": {},
     "output_type": "execute_result"
    }
   ],
   "source": [
    "cars_data.describe(include='all')"
   ]
  },
  {
   "cell_type": "markdown",
   "id": "b57e10bd",
   "metadata": {},
   "source": [
    "Price, Mileage, EngineV are continuous valued and Model, Body, Brand, Registration, EngineType are categorical"
   ]
  },
  {
   "cell_type": "code",
   "execution_count": 189,
   "id": "263307d6",
   "metadata": {},
   "outputs": [
    {
     "data": {
      "text/html": [
       "<div>\n",
       "<style scoped>\n",
       "    .dataframe tbody tr th:only-of-type {\n",
       "        vertical-align: middle;\n",
       "    }\n",
       "\n",
       "    .dataframe tbody tr th {\n",
       "        vertical-align: top;\n",
       "    }\n",
       "\n",
       "    .dataframe thead th {\n",
       "        text-align: right;\n",
       "    }\n",
       "</style>\n",
       "<table border=\"1\" class=\"dataframe\">\n",
       "  <thead>\n",
       "    <tr style=\"text-align: right;\">\n",
       "      <th></th>\n",
       "      <th>Price</th>\n",
       "      <th>Mileage</th>\n",
       "      <th>EngineV</th>\n",
       "      <th>Year</th>\n",
       "    </tr>\n",
       "  </thead>\n",
       "  <tbody>\n",
       "    <tr>\n",
       "      <th>count</th>\n",
       "      <td>4173.000000</td>\n",
       "      <td>4345.000000</td>\n",
       "      <td>4195.000000</td>\n",
       "      <td>4345.000000</td>\n",
       "    </tr>\n",
       "    <tr>\n",
       "      <th>mean</th>\n",
       "      <td>19418.746935</td>\n",
       "      <td>161.237284</td>\n",
       "      <td>2.790734</td>\n",
       "      <td>2006.550058</td>\n",
       "    </tr>\n",
       "    <tr>\n",
       "      <th>std</th>\n",
       "      <td>25584.242620</td>\n",
       "      <td>105.705797</td>\n",
       "      <td>5.066437</td>\n",
       "      <td>6.719097</td>\n",
       "    </tr>\n",
       "    <tr>\n",
       "      <th>min</th>\n",
       "      <td>600.000000</td>\n",
       "      <td>0.000000</td>\n",
       "      <td>0.600000</td>\n",
       "      <td>1969.000000</td>\n",
       "    </tr>\n",
       "    <tr>\n",
       "      <th>25%</th>\n",
       "      <td>6999.000000</td>\n",
       "      <td>86.000000</td>\n",
       "      <td>1.800000</td>\n",
       "      <td>2003.000000</td>\n",
       "    </tr>\n",
       "    <tr>\n",
       "      <th>50%</th>\n",
       "      <td>11500.000000</td>\n",
       "      <td>155.000000</td>\n",
       "      <td>2.200000</td>\n",
       "      <td>2008.000000</td>\n",
       "    </tr>\n",
       "    <tr>\n",
       "      <th>75%</th>\n",
       "      <td>21700.000000</td>\n",
       "      <td>230.000000</td>\n",
       "      <td>3.000000</td>\n",
       "      <td>2012.000000</td>\n",
       "    </tr>\n",
       "    <tr>\n",
       "      <th>max</th>\n",
       "      <td>300000.000000</td>\n",
       "      <td>980.000000</td>\n",
       "      <td>99.990000</td>\n",
       "      <td>2016.000000</td>\n",
       "    </tr>\n",
       "  </tbody>\n",
       "</table>\n",
       "</div>"
      ],
      "text/plain": [
       "               Price      Mileage      EngineV         Year\n",
       "count    4173.000000  4345.000000  4195.000000  4345.000000\n",
       "mean    19418.746935   161.237284     2.790734  2006.550058\n",
       "std     25584.242620   105.705797     5.066437     6.719097\n",
       "min       600.000000     0.000000     0.600000  1969.000000\n",
       "25%      6999.000000    86.000000     1.800000  2003.000000\n",
       "50%     11500.000000   155.000000     2.200000  2008.000000\n",
       "75%     21700.000000   230.000000     3.000000  2012.000000\n",
       "max    300000.000000   980.000000    99.990000  2016.000000"
      ]
     },
     "execution_count": 189,
     "metadata": {},
     "output_type": "execute_result"
    }
   ],
   "source": [
    "cars_data.describe()"
   ]
  },
  {
   "cell_type": "code",
   "execution_count": 190,
   "id": "3ebda1fa",
   "metadata": {},
   "outputs": [
    {
     "data": {
      "text/html": [
       "<div>\n",
       "<style scoped>\n",
       "    .dataframe tbody tr th:only-of-type {\n",
       "        vertical-align: middle;\n",
       "    }\n",
       "\n",
       "    .dataframe tbody tr th {\n",
       "        vertical-align: top;\n",
       "    }\n",
       "\n",
       "    .dataframe thead th {\n",
       "        text-align: right;\n",
       "    }\n",
       "</style>\n",
       "<table border=\"1\" class=\"dataframe\">\n",
       "  <thead>\n",
       "    <tr style=\"text-align: right;\">\n",
       "      <th></th>\n",
       "      <th>Brand</th>\n",
       "      <th>Price</th>\n",
       "      <th>Body</th>\n",
       "      <th>Mileage</th>\n",
       "      <th>EngineV</th>\n",
       "      <th>Engine Type</th>\n",
       "      <th>Registration</th>\n",
       "      <th>Year</th>\n",
       "      <th>Model</th>\n",
       "    </tr>\n",
       "  </thead>\n",
       "  <tbody>\n",
       "    <tr>\n",
       "      <th>0</th>\n",
       "      <td>BMW</td>\n",
       "      <td>4200.0</td>\n",
       "      <td>sedan</td>\n",
       "      <td>277</td>\n",
       "      <td>2.0</td>\n",
       "      <td>Petrol</td>\n",
       "      <td>yes</td>\n",
       "      <td>1991</td>\n",
       "      <td>320</td>\n",
       "    </tr>\n",
       "    <tr>\n",
       "      <th>1</th>\n",
       "      <td>Mercedes-Benz</td>\n",
       "      <td>7900.0</td>\n",
       "      <td>van</td>\n",
       "      <td>427</td>\n",
       "      <td>2.9</td>\n",
       "      <td>Diesel</td>\n",
       "      <td>yes</td>\n",
       "      <td>1999</td>\n",
       "      <td>Sprinter 212</td>\n",
       "    </tr>\n",
       "    <tr>\n",
       "      <th>2</th>\n",
       "      <td>Mercedes-Benz</td>\n",
       "      <td>13300.0</td>\n",
       "      <td>sedan</td>\n",
       "      <td>358</td>\n",
       "      <td>5.0</td>\n",
       "      <td>Gas</td>\n",
       "      <td>yes</td>\n",
       "      <td>2003</td>\n",
       "      <td>S 500</td>\n",
       "    </tr>\n",
       "    <tr>\n",
       "      <th>3</th>\n",
       "      <td>Audi</td>\n",
       "      <td>23000.0</td>\n",
       "      <td>crossover</td>\n",
       "      <td>240</td>\n",
       "      <td>4.2</td>\n",
       "      <td>Petrol</td>\n",
       "      <td>yes</td>\n",
       "      <td>2007</td>\n",
       "      <td>Q7</td>\n",
       "    </tr>\n",
       "    <tr>\n",
       "      <th>4</th>\n",
       "      <td>Toyota</td>\n",
       "      <td>18300.0</td>\n",
       "      <td>crossover</td>\n",
       "      <td>120</td>\n",
       "      <td>2.0</td>\n",
       "      <td>Petrol</td>\n",
       "      <td>yes</td>\n",
       "      <td>2011</td>\n",
       "      <td>Rav 4</td>\n",
       "    </tr>\n",
       "  </tbody>\n",
       "</table>\n",
       "</div>"
      ],
      "text/plain": [
       "           Brand    Price       Body  Mileage  EngineV Engine Type  \\\n",
       "0            BMW   4200.0      sedan      277      2.0      Petrol   \n",
       "1  Mercedes-Benz   7900.0        van      427      2.9      Diesel   \n",
       "2  Mercedes-Benz  13300.0      sedan      358      5.0         Gas   \n",
       "3           Audi  23000.0  crossover      240      4.2      Petrol   \n",
       "4         Toyota  18300.0  crossover      120      2.0      Petrol   \n",
       "\n",
       "  Registration  Year         Model  \n",
       "0          yes  1991           320  \n",
       "1          yes  1999  Sprinter 212  \n",
       "2          yes  2003         S 500  \n",
       "3          yes  2007            Q7  \n",
       "4          yes  2011         Rav 4  "
      ]
     },
     "execution_count": 190,
     "metadata": {},
     "output_type": "execute_result"
    }
   ],
   "source": [
    "cars_data.head()"
   ]
  },
  {
   "cell_type": "markdown",
   "id": "5052cc6a",
   "metadata": {},
   "source": [
    "2) Display the statistical values for each of the attributes, along with visualizations (e.g.,histogram) of the distributions for each attribute. Explain noticeable traits for key attributes. Are there any attributes that might require special treatment? If so, what special treatment might they require?"
   ]
  },
  {
   "cell_type": "code",
   "execution_count": 309,
   "id": "602c8516",
   "metadata": {},
   "outputs": [],
   "source": [
    "import seaborn as sns \n",
    "import matplotlib.pyplot as plt\n",
    "import numpy as np"
   ]
  },
  {
   "cell_type": "code",
   "execution_count": 192,
   "id": "7ddeb925",
   "metadata": {},
   "outputs": [
    {
     "data": {
      "image/png": "[encoded data removed]",
      "text/plain": [
       "<Figure size 1080x720 with 3 Axes>"
      ]
     },
     "metadata": {
      "needs_background": "light"
     },
     "output_type": "display_data"
    }
   ],
   "source": [
    "#Determining the coorelation between different attributes and analysing their features\n",
    "plt.figure(figsize=(15, 10))               \n",
    "\n",
    "sns.heatmap(cars_data[[ 'Brand','Price','Body','Mileage','EngineV','Engine Type','Registration','Year','Model']].corr())               \n",
    "sns.heatmap(cars_data[[ 'Brand','Price','Body','Mileage','EngineV','Engine Type','Registration','Year','Model']].corr(), annot = True, vmin=-1, vmax=1, center= 0, cmap= 'coolwarm', linewidths=3, linecolor='black')  \n",
    "plt.show()"
   ]
  },
  {
   "cell_type": "code",
   "execution_count": 193,
   "id": "b7966360",
   "metadata": {},
   "outputs": [
    {
     "data": {
      "text/plain": [
       "Brand             0\n",
       "Price           172\n",
       "Body              0\n",
       "Mileage           0\n",
       "EngineV         150\n",
       "Engine Type       0\n",
       "Registration      0\n",
       "Year              0\n",
       "Model             0\n",
       "dtype: int64"
      ]
     },
     "execution_count": 193,
     "metadata": {},
     "output_type": "execute_result"
    }
   ],
   "source": [
    "#checking null values\n",
    "cars_data.isnull().sum()"
   ]
  },
  {
   "cell_type": "markdown",
   "id": "b306b30a",
   "metadata": {},
   "source": [
    "There are 312 different models(categorical) and encoding it will make the model too complex and hence dropping it\n"
   ]
  },
  {
   "cell_type": "code",
   "execution_count": 194,
   "id": "6151530c",
   "metadata": {},
   "outputs": [
    {
     "data": {
      "image/png": "[encoded data removed]",
      "text/plain": [
       "<Figure size 1080x720 with 4 Axes>"
      ]
     },
     "metadata": {
      "needs_background": "light"
     },
     "output_type": "display_data"
    }
   ],
   "source": [
    "cars_data.hist(bins=50, figsize=(15,10))\n",
    "plt.show()"
   ]
  },
  {
   "cell_type": "code",
   "execution_count": 195,
   "id": "e8b8b674",
   "metadata": {},
   "outputs": [],
   "source": [
    "#dropping na records\n",
    "cars_data.dropna(axis=0, inplace=True)"
   ]
  },
  {
   "cell_type": "code",
   "execution_count": 198,
   "id": "3560e101",
   "metadata": {},
   "outputs": [
    {
     "data": {
      "text/plain": [
       "Brand           0\n",
       "Price           0\n",
       "Body            0\n",
       "Mileage         0\n",
       "EngineV         0\n",
       "Engine Type     0\n",
       "Registration    0\n",
       "Year            0\n",
       "Model           0\n",
       "dtype: int64"
      ]
     },
     "execution_count": 198,
     "metadata": {},
     "output_type": "execute_result"
    }
   ],
   "source": [
    "cars_data.isnull().sum()"
   ]
  },
  {
   "cell_type": "code",
   "execution_count": 199,
   "id": "2ac615c5",
   "metadata": {},
   "outputs": [
    {
     "data": {
      "text/plain": [
       "Price         AxesSubplot(0.125,0.71587;0.168478x0.16413)\n",
       "Mileage    AxesSubplot(0.327174,0.71587;0.168478x0.16413)\n",
       "EngineV    AxesSubplot(0.529348,0.71587;0.168478x0.16413)\n",
       "Year       AxesSubplot(0.731522,0.71587;0.168478x0.16413)\n",
       "dtype: object"
      ]
     },
     "execution_count": 199,
     "metadata": {},
     "output_type": "execute_result"
    },
    {
     "data": {
      "image/png": "[encoded data removed]",
      "text/plain": [
       "<Figure size 720x576 with 16 Axes>"
      ]
     },
     "metadata": {
      "needs_background": "light"
     },
     "output_type": "display_data"
    }
   ],
   "source": [
    "cars_data[[ 'Brand','Price','Body','Mileage','EngineV','Engine Type','Registration','Year','Model']].plot(kind='box', subplots=True, layout=(4,4), figsize=(10,8), grid=True)"
   ]
  },
  {
   "cell_type": "code",
   "execution_count": 200,
   "id": "2846d640",
   "metadata": {},
   "outputs": [
    {
     "data": {
      "image/png": "[encoded data removed]",
      "text/plain": [
       "<Figure size 2304x288 with 8 Axes>"
      ]
     },
     "metadata": {
      "needs_background": "light"
     },
     "output_type": "display_data"
    }
   ],
   "source": [
    "sns.pairplot(cars_data, x_vars=[ 'Brand','Body','Mileage','EngineV','Engine Type','Registration','Year','Model'], y_vars='Price', height=4, aspect=1, kind='scatter')\n",
    "plt.title('Scatter plot of Price vs Other Features')\n",
    "plt.show()"
   ]
  },
  {
   "cell_type": "code",
   "execution_count": 201,
   "id": "07cfa5ef",
   "metadata": {},
   "outputs": [
    {
     "data": {
      "text/plain": [
       "array(['BMW', 'Mercedes-Benz', 'Audi', 'Toyota', 'Renault', 'Volkswagen',\n",
       "       'Mitsubishi'], dtype=object)"
      ]
     },
     "execution_count": 201,
     "metadata": {},
     "output_type": "execute_result"
    }
   ],
   "source": [
    "cars_data['Brand'].unique()"
   ]
  },
  {
   "cell_type": "code",
   "execution_count": 202,
   "id": "de54a890",
   "metadata": {},
   "outputs": [
    {
     "data": {
      "text/plain": [
       "array(['sedan', 'van', 'crossover', 'vagon', 'other', 'hatch'],\n",
       "      dtype=object)"
      ]
     },
     "execution_count": 202,
     "metadata": {},
     "output_type": "execute_result"
    }
   ],
   "source": [
    "cars_data['Body'].unique()"
   ]
  },
  {
   "cell_type": "code",
   "execution_count": 203,
   "id": "dc2eb3c7",
   "metadata": {},
   "outputs": [
    {
     "data": {
      "text/plain": [
       "array(['Petrol', 'Diesel', 'Gas', 'Other'], dtype=object)"
      ]
     },
     "execution_count": 203,
     "metadata": {},
     "output_type": "execute_result"
    }
   ],
   "source": [
    "cars_data['Engine Type'].unique()"
   ]
  },
  {
   "cell_type": "code",
   "execution_count": 204,
   "id": "4f19796d",
   "metadata": {},
   "outputs": [
    {
     "data": {
      "text/plain": [
       "array(['Petrol', 'Diesel', 'Gas', 'Other'], dtype=object)"
      ]
     },
     "execution_count": 204,
     "metadata": {},
     "output_type": "execute_result"
    }
   ],
   "source": [
    "cars_data['Engine Type'].unique()"
   ]
  },
  {
   "cell_type": "code",
   "execution_count": 205,
   "id": "1959d0c2",
   "metadata": {},
   "outputs": [
    {
     "data": {
      "text/plain": [
       "array(['yes', 'no'], dtype=object)"
      ]
     },
     "execution_count": 205,
     "metadata": {},
     "output_type": "execute_result"
    }
   ],
   "source": [
    "cars_data['Registration'].unique()"
   ]
  },
  {
   "cell_type": "code",
   "execution_count": 206,
   "id": "b6fb370d",
   "metadata": {},
   "outputs": [],
   "source": [
    "cars_data = cars_data.drop('Model', axis=1)"
   ]
  },
  {
   "cell_type": "code",
   "execution_count": 207,
   "id": "06d3ab58",
   "metadata": {},
   "outputs": [],
   "source": [
    "cars_data = cars_data.drop('Year', axis=1)"
   ]
  },
  {
   "cell_type": "code",
   "execution_count": 208,
   "id": "2b688093",
   "metadata": {},
   "outputs": [
    {
     "data": {
      "text/html": [
       "<div>\n",
       "<style scoped>\n",
       "    .dataframe tbody tr th:only-of-type {\n",
       "        vertical-align: middle;\n",
       "    }\n",
       "\n",
       "    .dataframe tbody tr th {\n",
       "        vertical-align: top;\n",
       "    }\n",
       "\n",
       "    .dataframe thead th {\n",
       "        text-align: right;\n",
       "    }\n",
       "</style>\n",
       "<table border=\"1\" class=\"dataframe\">\n",
       "  <thead>\n",
       "    <tr style=\"text-align: right;\">\n",
       "      <th></th>\n",
       "      <th>Brand</th>\n",
       "      <th>Price</th>\n",
       "      <th>Body</th>\n",
       "      <th>Mileage</th>\n",
       "      <th>EngineV</th>\n",
       "      <th>Engine Type</th>\n",
       "      <th>Registration</th>\n",
       "    </tr>\n",
       "  </thead>\n",
       "  <tbody>\n",
       "    <tr>\n",
       "      <th>count</th>\n",
       "      <td>4025</td>\n",
       "      <td>4025.000000</td>\n",
       "      <td>4025</td>\n",
       "      <td>4025.000000</td>\n",
       "      <td>4025.000000</td>\n",
       "      <td>4025</td>\n",
       "      <td>4025</td>\n",
       "    </tr>\n",
       "    <tr>\n",
       "      <th>unique</th>\n",
       "      <td>7</td>\n",
       "      <td>NaN</td>\n",
       "      <td>6</td>\n",
       "      <td>NaN</td>\n",
       "      <td>NaN</td>\n",
       "      <td>4</td>\n",
       "      <td>2</td>\n",
       "    </tr>\n",
       "    <tr>\n",
       "      <th>top</th>\n",
       "      <td>Volkswagen</td>\n",
       "      <td>NaN</td>\n",
       "      <td>sedan</td>\n",
       "      <td>NaN</td>\n",
       "      <td>NaN</td>\n",
       "      <td>Diesel</td>\n",
       "      <td>yes</td>\n",
       "    </tr>\n",
       "    <tr>\n",
       "      <th>freq</th>\n",
       "      <td>880</td>\n",
       "      <td>NaN</td>\n",
       "      <td>1534</td>\n",
       "      <td>NaN</td>\n",
       "      <td>NaN</td>\n",
       "      <td>1861</td>\n",
       "      <td>3654</td>\n",
       "    </tr>\n",
       "    <tr>\n",
       "      <th>mean</th>\n",
       "      <td>NaN</td>\n",
       "      <td>19552.308065</td>\n",
       "      <td>NaN</td>\n",
       "      <td>163.572174</td>\n",
       "      <td>2.764586</td>\n",
       "      <td>NaN</td>\n",
       "      <td>NaN</td>\n",
       "    </tr>\n",
       "    <tr>\n",
       "      <th>std</th>\n",
       "      <td>NaN</td>\n",
       "      <td>25815.734988</td>\n",
       "      <td>NaN</td>\n",
       "      <td>103.394703</td>\n",
       "      <td>4.935941</td>\n",
       "      <td>NaN</td>\n",
       "      <td>NaN</td>\n",
       "    </tr>\n",
       "    <tr>\n",
       "      <th>min</th>\n",
       "      <td>NaN</td>\n",
       "      <td>600.000000</td>\n",
       "      <td>NaN</td>\n",
       "      <td>0.000000</td>\n",
       "      <td>0.600000</td>\n",
       "      <td>NaN</td>\n",
       "      <td>NaN</td>\n",
       "    </tr>\n",
       "    <tr>\n",
       "      <th>25%</th>\n",
       "      <td>NaN</td>\n",
       "      <td>6999.000000</td>\n",
       "      <td>NaN</td>\n",
       "      <td>90.000000</td>\n",
       "      <td>1.800000</td>\n",
       "      <td>NaN</td>\n",
       "      <td>NaN</td>\n",
       "    </tr>\n",
       "    <tr>\n",
       "      <th>50%</th>\n",
       "      <td>NaN</td>\n",
       "      <td>11500.000000</td>\n",
       "      <td>NaN</td>\n",
       "      <td>158.000000</td>\n",
       "      <td>2.200000</td>\n",
       "      <td>NaN</td>\n",
       "      <td>NaN</td>\n",
       "    </tr>\n",
       "    <tr>\n",
       "      <th>75%</th>\n",
       "      <td>NaN</td>\n",
       "      <td>21900.000000</td>\n",
       "      <td>NaN</td>\n",
       "      <td>230.000000</td>\n",
       "      <td>3.000000</td>\n",
       "      <td>NaN</td>\n",
       "      <td>NaN</td>\n",
       "    </tr>\n",
       "    <tr>\n",
       "      <th>max</th>\n",
       "      <td>NaN</td>\n",
       "      <td>300000.000000</td>\n",
       "      <td>NaN</td>\n",
       "      <td>980.000000</td>\n",
       "      <td>99.990000</td>\n",
       "      <td>NaN</td>\n",
       "      <td>NaN</td>\n",
       "    </tr>\n",
       "  </tbody>\n",
       "</table>\n",
       "</div>"
      ],
      "text/plain": [
       "             Brand          Price   Body      Mileage      EngineV  \\\n",
       "count         4025    4025.000000   4025  4025.000000  4025.000000   \n",
       "unique           7            NaN      6          NaN          NaN   \n",
       "top     Volkswagen            NaN  sedan          NaN          NaN   \n",
       "freq           880            NaN   1534          NaN          NaN   \n",
       "mean           NaN   19552.308065    NaN   163.572174     2.764586   \n",
       "std            NaN   25815.734988    NaN   103.394703     4.935941   \n",
       "min            NaN     600.000000    NaN     0.000000     0.600000   \n",
       "25%            NaN    6999.000000    NaN    90.000000     1.800000   \n",
       "50%            NaN   11500.000000    NaN   158.000000     2.200000   \n",
       "75%            NaN   21900.000000    NaN   230.000000     3.000000   \n",
       "max            NaN  300000.000000    NaN   980.000000    99.990000   \n",
       "\n",
       "       Engine Type Registration  \n",
       "count         4025         4025  \n",
       "unique           4            2  \n",
       "top         Diesel          yes  \n",
       "freq          1861         3654  \n",
       "mean           NaN          NaN  \n",
       "std            NaN          NaN  \n",
       "min            NaN          NaN  \n",
       "25%            NaN          NaN  \n",
       "50%            NaN          NaN  \n",
       "75%            NaN          NaN  \n",
       "max            NaN          NaN  "
      ]
     },
     "execution_count": 208,
     "metadata": {},
     "output_type": "execute_result"
    }
   ],
   "source": [
    "cars_data.describe(include=\"all\")"
   ]
  },
  {
   "cell_type": "code",
   "execution_count": 209,
   "id": "a4bdeb58",
   "metadata": {},
   "outputs": [],
   "source": [
    "#encoding all categorical values\n",
    "from sklearn.preprocessing import OneHotEncoder\n",
    "\n",
    "onehotencoder = OneHotEncoder()\n",
    " \n",
    "X = onehotencoder.fit_transform(cars_data['Brand'].values.reshape(-1,1)).toarray()"
   ]
  },
  {
   "cell_type": "code",
   "execution_count": 210,
   "id": "dd3b767a",
   "metadata": {},
   "outputs": [],
   "source": [
    "dfOneHot = pd.DataFrame(X, columns = [\"Brand_\"+str(int(i)) for i in range(X.shape[1])]) "
   ]
  },
  {
   "cell_type": "code",
   "execution_count": 211,
   "id": "48ed3370",
   "metadata": {},
   "outputs": [],
   "source": [
    "cars_data = pd.concat([cars_data, dfOneHot], axis=1)\n",
    " \n",
    "cars_data= cars_data.drop(['Brand'], axis=1) \n"
   ]
  },
  {
   "cell_type": "code",
   "execution_count": 212,
   "id": "41d63d5e",
   "metadata": {},
   "outputs": [
    {
     "data": {
      "text/html": [
       "<div>\n",
       "<style scoped>\n",
       "    .dataframe tbody tr th:only-of-type {\n",
       "        vertical-align: middle;\n",
       "    }\n",
       "\n",
       "    .dataframe tbody tr th {\n",
       "        vertical-align: top;\n",
       "    }\n",
       "\n",
       "    .dataframe thead th {\n",
       "        text-align: right;\n",
       "    }\n",
       "</style>\n",
       "<table border=\"1\" class=\"dataframe\">\n",
       "  <thead>\n",
       "    <tr style=\"text-align: right;\">\n",
       "      <th></th>\n",
       "      <th>Price</th>\n",
       "      <th>Body</th>\n",
       "      <th>Mileage</th>\n",
       "      <th>EngineV</th>\n",
       "      <th>Engine Type</th>\n",
       "      <th>Registration</th>\n",
       "      <th>Brand_0</th>\n",
       "      <th>Brand_1</th>\n",
       "      <th>Brand_2</th>\n",
       "      <th>Brand_3</th>\n",
       "      <th>Brand_4</th>\n",
       "      <th>Brand_5</th>\n",
       "      <th>Brand_6</th>\n",
       "    </tr>\n",
       "  </thead>\n",
       "  <tbody>\n",
       "    <tr>\n",
       "      <th>count</th>\n",
       "      <td>4025.000000</td>\n",
       "      <td>4025</td>\n",
       "      <td>4025.000000</td>\n",
       "      <td>4025.000000</td>\n",
       "      <td>4025</td>\n",
       "      <td>4025</td>\n",
       "      <td>4025.000000</td>\n",
       "      <td>4025.000000</td>\n",
       "      <td>4025.000000</td>\n",
       "      <td>4025.000000</td>\n",
       "      <td>4025.000000</td>\n",
       "      <td>4025.000000</td>\n",
       "      <td>4025.000000</td>\n",
       "    </tr>\n",
       "    <tr>\n",
       "      <th>unique</th>\n",
       "      <td>NaN</td>\n",
       "      <td>6</td>\n",
       "      <td>NaN</td>\n",
       "      <td>NaN</td>\n",
       "      <td>4</td>\n",
       "      <td>2</td>\n",
       "      <td>NaN</td>\n",
       "      <td>NaN</td>\n",
       "      <td>NaN</td>\n",
       "      <td>NaN</td>\n",
       "      <td>NaN</td>\n",
       "      <td>NaN</td>\n",
       "      <td>NaN</td>\n",
       "    </tr>\n",
       "    <tr>\n",
       "      <th>top</th>\n",
       "      <td>NaN</td>\n",
       "      <td>sedan</td>\n",
       "      <td>NaN</td>\n",
       "      <td>NaN</td>\n",
       "      <td>Diesel</td>\n",
       "      <td>yes</td>\n",
       "      <td>NaN</td>\n",
       "      <td>NaN</td>\n",
       "      <td>NaN</td>\n",
       "      <td>NaN</td>\n",
       "      <td>NaN</td>\n",
       "      <td>NaN</td>\n",
       "      <td>NaN</td>\n",
       "    </tr>\n",
       "    <tr>\n",
       "      <th>freq</th>\n",
       "      <td>NaN</td>\n",
       "      <td>1534</td>\n",
       "      <td>NaN</td>\n",
       "      <td>NaN</td>\n",
       "      <td>1861</td>\n",
       "      <td>3654</td>\n",
       "      <td>NaN</td>\n",
       "      <td>NaN</td>\n",
       "      <td>NaN</td>\n",
       "      <td>NaN</td>\n",
       "      <td>NaN</td>\n",
       "      <td>NaN</td>\n",
       "      <td>NaN</td>\n",
       "    </tr>\n",
       "    <tr>\n",
       "      <th>mean</th>\n",
       "      <td>19552.308065</td>\n",
       "      <td>NaN</td>\n",
       "      <td>163.572174</td>\n",
       "      <td>2.764586</td>\n",
       "      <td>NaN</td>\n",
       "      <td>NaN</td>\n",
       "      <td>0.104348</td>\n",
       "      <td>0.159006</td>\n",
       "      <td>0.204472</td>\n",
       "      <td>0.076273</td>\n",
       "      <td>0.110559</td>\n",
       "      <td>0.126708</td>\n",
       "      <td>0.218634</td>\n",
       "    </tr>\n",
       "    <tr>\n",
       "      <th>std</th>\n",
       "      <td>25815.734988</td>\n",
       "      <td>NaN</td>\n",
       "      <td>103.394703</td>\n",
       "      <td>4.935941</td>\n",
       "      <td>NaN</td>\n",
       "      <td>NaN</td>\n",
       "      <td>0.305749</td>\n",
       "      <td>0.365727</td>\n",
       "      <td>0.403365</td>\n",
       "      <td>0.265468</td>\n",
       "      <td>0.313624</td>\n",
       "      <td>0.332687</td>\n",
       "      <td>0.413371</td>\n",
       "    </tr>\n",
       "    <tr>\n",
       "      <th>min</th>\n",
       "      <td>600.000000</td>\n",
       "      <td>NaN</td>\n",
       "      <td>0.000000</td>\n",
       "      <td>0.600000</td>\n",
       "      <td>NaN</td>\n",
       "      <td>NaN</td>\n",
       "      <td>0.000000</td>\n",
       "      <td>0.000000</td>\n",
       "      <td>0.000000</td>\n",
       "      <td>0.000000</td>\n",
       "      <td>0.000000</td>\n",
       "      <td>0.000000</td>\n",
       "      <td>0.000000</td>\n",
       "    </tr>\n",
       "    <tr>\n",
       "      <th>25%</th>\n",
       "      <td>6999.000000</td>\n",
       "      <td>NaN</td>\n",
       "      <td>90.000000</td>\n",
       "      <td>1.800000</td>\n",
       "      <td>NaN</td>\n",
       "      <td>NaN</td>\n",
       "      <td>0.000000</td>\n",
       "      <td>0.000000</td>\n",
       "      <td>0.000000</td>\n",
       "      <td>0.000000</td>\n",
       "      <td>0.000000</td>\n",
       "      <td>0.000000</td>\n",
       "      <td>0.000000</td>\n",
       "    </tr>\n",
       "    <tr>\n",
       "      <th>50%</th>\n",
       "      <td>11500.000000</td>\n",
       "      <td>NaN</td>\n",
       "      <td>158.000000</td>\n",
       "      <td>2.200000</td>\n",
       "      <td>NaN</td>\n",
       "      <td>NaN</td>\n",
       "      <td>0.000000</td>\n",
       "      <td>0.000000</td>\n",
       "      <td>0.000000</td>\n",
       "      <td>0.000000</td>\n",
       "      <td>0.000000</td>\n",
       "      <td>0.000000</td>\n",
       "      <td>0.000000</td>\n",
       "    </tr>\n",
       "    <tr>\n",
       "      <th>75%</th>\n",
       "      <td>21900.000000</td>\n",
       "      <td>NaN</td>\n",
       "      <td>230.000000</td>\n",
       "      <td>3.000000</td>\n",
       "      <td>NaN</td>\n",
       "      <td>NaN</td>\n",
       "      <td>0.000000</td>\n",
       "      <td>0.000000</td>\n",
       "      <td>0.000000</td>\n",
       "      <td>0.000000</td>\n",
       "      <td>0.000000</td>\n",
       "      <td>0.000000</td>\n",
       "      <td>0.000000</td>\n",
       "    </tr>\n",
       "    <tr>\n",
       "      <th>max</th>\n",
       "      <td>300000.000000</td>\n",
       "      <td>NaN</td>\n",
       "      <td>980.000000</td>\n",
       "      <td>99.990000</td>\n",
       "      <td>NaN</td>\n",
       "      <td>NaN</td>\n",
       "      <td>1.000000</td>\n",
       "      <td>1.000000</td>\n",
       "      <td>1.000000</td>\n",
       "      <td>1.000000</td>\n",
       "      <td>1.000000</td>\n",
       "      <td>1.000000</td>\n",
       "      <td>1.000000</td>\n",
       "    </tr>\n",
       "  </tbody>\n",
       "</table>\n",
       "</div>"
      ],
      "text/plain": [
       "                Price   Body      Mileage      EngineV Engine Type  \\\n",
       "count     4025.000000   4025  4025.000000  4025.000000        4025   \n",
       "unique            NaN      6          NaN          NaN           4   \n",
       "top               NaN  sedan          NaN          NaN      Diesel   \n",
       "freq              NaN   1534          NaN          NaN        1861   \n",
       "mean     19552.308065    NaN   163.572174     2.764586         NaN   \n",
       "std      25815.734988    NaN   103.394703     4.935941         NaN   \n",
       "min        600.000000    NaN     0.000000     0.600000         NaN   \n",
       "25%       6999.000000    NaN    90.000000     1.800000         NaN   \n",
       "50%      11500.000000    NaN   158.000000     2.200000         NaN   \n",
       "75%      21900.000000    NaN   230.000000     3.000000         NaN   \n",
       "max     300000.000000    NaN   980.000000    99.990000         NaN   \n",
       "\n",
       "       Registration      Brand_0      Brand_1      Brand_2      Brand_3  \\\n",
       "count          4025  4025.000000  4025.000000  4025.000000  4025.000000   \n",
       "unique            2          NaN          NaN          NaN          NaN   \n",
       "top             yes          NaN          NaN          NaN          NaN   \n",
       "freq           3654          NaN          NaN          NaN          NaN   \n",
       "mean            NaN     0.104348     0.159006     0.204472     0.076273   \n",
       "std             NaN     0.305749     0.365727     0.403365     0.265468   \n",
       "min             NaN     0.000000     0.000000     0.000000     0.000000   \n",
       "25%             NaN     0.000000     0.000000     0.000000     0.000000   \n",
       "50%             NaN     0.000000     0.000000     0.000000     0.000000   \n",
       "75%             NaN     0.000000     0.000000     0.000000     0.000000   \n",
       "max             NaN     1.000000     1.000000     1.000000     1.000000   \n",
       "\n",
       "            Brand_4      Brand_5      Brand_6  \n",
       "count   4025.000000  4025.000000  4025.000000  \n",
       "unique          NaN          NaN          NaN  \n",
       "top             NaN          NaN          NaN  \n",
       "freq            NaN          NaN          NaN  \n",
       "mean       0.110559     0.126708     0.218634  \n",
       "std        0.313624     0.332687     0.413371  \n",
       "min        0.000000     0.000000     0.000000  \n",
       "25%        0.000000     0.000000     0.000000  \n",
       "50%        0.000000     0.000000     0.000000  \n",
       "75%        0.000000     0.000000     0.000000  \n",
       "max        1.000000     1.000000     1.000000  "
      ]
     },
     "execution_count": 212,
     "metadata": {},
     "output_type": "execute_result"
    }
   ],
   "source": [
    "cars_data.describe(include=\"all\")"
   ]
  },
  {
   "cell_type": "code",
   "execution_count": 213,
   "id": "70ddb067",
   "metadata": {},
   "outputs": [],
   "source": [
    "X = onehotencoder.fit_transform(cars_data['Body'].values.reshape(-1,1)).toarray()\n",
    "dfOneHot = pd.DataFrame(X, columns = [\"Body_\"+str(int(i)) for i in range(X.shape[1])]) \n",
    "cars_data = pd.concat([cars_data, dfOneHot], axis=1)\n",
    " \n",
    "cars_data= cars_data.drop(['Body'], axis=1) "
   ]
  },
  {
   "cell_type": "code",
   "execution_count": 214,
   "id": "28e31316",
   "metadata": {},
   "outputs": [],
   "source": [
    "X = onehotencoder.fit_transform(cars_data['Engine Type'].values.reshape(-1,1)).toarray()\n",
    "dfOneHot = pd.DataFrame(X, columns = [\"Engine_Type_\"+str(int(i)) for i in range(X.shape[1])]) \n",
    "cars_data = pd.concat([cars_data, dfOneHot], axis=1)\n",
    " \n",
    "cars_data= cars_data.drop(['Engine Type'], axis=1) "
   ]
  },
  {
   "cell_type": "code",
   "execution_count": 215,
   "id": "f3b12f3c",
   "metadata": {},
   "outputs": [],
   "source": [
    "#since it has just 2 categories we can use LabelEncoder instead of Onehotencoder\n",
    "from sklearn.preprocessing import LabelEncoder\n",
    "le = LabelEncoder()\n",
    "cars_data['Registration'] = le.fit_transform(cars_data['Registration'])"
   ]
  },
  {
   "cell_type": "code",
   "execution_count": 216,
   "id": "fddee2cf",
   "metadata": {},
   "outputs": [
    {
     "data": {
      "text/html": [
       "<div>\n",
       "<style scoped>\n",
       "    .dataframe tbody tr th:only-of-type {\n",
       "        vertical-align: middle;\n",
       "    }\n",
       "\n",
       "    .dataframe tbody tr th {\n",
       "        vertical-align: top;\n",
       "    }\n",
       "\n",
       "    .dataframe thead th {\n",
       "        text-align: right;\n",
       "    }\n",
       "</style>\n",
       "<table border=\"1\" class=\"dataframe\">\n",
       "  <thead>\n",
       "    <tr style=\"text-align: right;\">\n",
       "      <th></th>\n",
       "      <th>Price</th>\n",
       "      <th>Mileage</th>\n",
       "      <th>EngineV</th>\n",
       "      <th>Registration</th>\n",
       "      <th>Brand_0</th>\n",
       "      <th>Brand_1</th>\n",
       "      <th>Brand_2</th>\n",
       "      <th>Brand_3</th>\n",
       "      <th>Brand_4</th>\n",
       "      <th>Brand_5</th>\n",
       "      <th>...</th>\n",
       "      <th>Body_2</th>\n",
       "      <th>Body_3</th>\n",
       "      <th>Body_4</th>\n",
       "      <th>Body_5</th>\n",
       "      <th>Body_6</th>\n",
       "      <th>Engine_Type_0</th>\n",
       "      <th>Engine_Type_1</th>\n",
       "      <th>Engine_Type_2</th>\n",
       "      <th>Engine_Type_3</th>\n",
       "      <th>Engine_Type_4</th>\n",
       "    </tr>\n",
       "  </thead>\n",
       "  <tbody>\n",
       "    <tr>\n",
       "      <th>0</th>\n",
       "      <td>4200.0</td>\n",
       "      <td>277.0</td>\n",
       "      <td>2.0</td>\n",
       "      <td>1</td>\n",
       "      <td>0.0</td>\n",
       "      <td>1.0</td>\n",
       "      <td>0.0</td>\n",
       "      <td>0.0</td>\n",
       "      <td>0.0</td>\n",
       "      <td>0.0</td>\n",
       "      <td>...</td>\n",
       "      <td>0.0</td>\n",
       "      <td>1.0</td>\n",
       "      <td>0.0</td>\n",
       "      <td>0.0</td>\n",
       "      <td>0.0</td>\n",
       "      <td>0.0</td>\n",
       "      <td>0.0</td>\n",
       "      <td>0.0</td>\n",
       "      <td>1.0</td>\n",
       "      <td>0.0</td>\n",
       "    </tr>\n",
       "    <tr>\n",
       "      <th>1</th>\n",
       "      <td>7900.0</td>\n",
       "      <td>427.0</td>\n",
       "      <td>2.9</td>\n",
       "      <td>1</td>\n",
       "      <td>0.0</td>\n",
       "      <td>0.0</td>\n",
       "      <td>1.0</td>\n",
       "      <td>0.0</td>\n",
       "      <td>0.0</td>\n",
       "      <td>0.0</td>\n",
       "      <td>...</td>\n",
       "      <td>0.0</td>\n",
       "      <td>0.0</td>\n",
       "      <td>0.0</td>\n",
       "      <td>1.0</td>\n",
       "      <td>0.0</td>\n",
       "      <td>1.0</td>\n",
       "      <td>0.0</td>\n",
       "      <td>0.0</td>\n",
       "      <td>0.0</td>\n",
       "      <td>0.0</td>\n",
       "    </tr>\n",
       "    <tr>\n",
       "      <th>2</th>\n",
       "      <td>13300.0</td>\n",
       "      <td>358.0</td>\n",
       "      <td>5.0</td>\n",
       "      <td>1</td>\n",
       "      <td>0.0</td>\n",
       "      <td>0.0</td>\n",
       "      <td>1.0</td>\n",
       "      <td>0.0</td>\n",
       "      <td>0.0</td>\n",
       "      <td>0.0</td>\n",
       "      <td>...</td>\n",
       "      <td>0.0</td>\n",
       "      <td>1.0</td>\n",
       "      <td>0.0</td>\n",
       "      <td>0.0</td>\n",
       "      <td>0.0</td>\n",
       "      <td>0.0</td>\n",
       "      <td>1.0</td>\n",
       "      <td>0.0</td>\n",
       "      <td>0.0</td>\n",
       "      <td>0.0</td>\n",
       "    </tr>\n",
       "    <tr>\n",
       "      <th>3</th>\n",
       "      <td>23000.0</td>\n",
       "      <td>240.0</td>\n",
       "      <td>4.2</td>\n",
       "      <td>1</td>\n",
       "      <td>1.0</td>\n",
       "      <td>0.0</td>\n",
       "      <td>0.0</td>\n",
       "      <td>0.0</td>\n",
       "      <td>0.0</td>\n",
       "      <td>0.0</td>\n",
       "      <td>...</td>\n",
       "      <td>0.0</td>\n",
       "      <td>0.0</td>\n",
       "      <td>0.0</td>\n",
       "      <td>0.0</td>\n",
       "      <td>0.0</td>\n",
       "      <td>0.0</td>\n",
       "      <td>0.0</td>\n",
       "      <td>0.0</td>\n",
       "      <td>1.0</td>\n",
       "      <td>0.0</td>\n",
       "    </tr>\n",
       "    <tr>\n",
       "      <th>4</th>\n",
       "      <td>18300.0</td>\n",
       "      <td>120.0</td>\n",
       "      <td>2.0</td>\n",
       "      <td>1</td>\n",
       "      <td>0.0</td>\n",
       "      <td>0.0</td>\n",
       "      <td>0.0</td>\n",
       "      <td>0.0</td>\n",
       "      <td>0.0</td>\n",
       "      <td>1.0</td>\n",
       "      <td>...</td>\n",
       "      <td>0.0</td>\n",
       "      <td>0.0</td>\n",
       "      <td>0.0</td>\n",
       "      <td>0.0</td>\n",
       "      <td>0.0</td>\n",
       "      <td>0.0</td>\n",
       "      <td>0.0</td>\n",
       "      <td>0.0</td>\n",
       "      <td>1.0</td>\n",
       "      <td>0.0</td>\n",
       "    </tr>\n",
       "  </tbody>\n",
       "</table>\n",
       "<p>5 rows × 23 columns</p>\n",
       "</div>"
      ],
      "text/plain": [
       "     Price  Mileage  EngineV  Registration  Brand_0  Brand_1  Brand_2  \\\n",
       "0   4200.0    277.0      2.0             1      0.0      1.0      0.0   \n",
       "1   7900.0    427.0      2.9             1      0.0      0.0      1.0   \n",
       "2  13300.0    358.0      5.0             1      0.0      0.0      1.0   \n",
       "3  23000.0    240.0      4.2             1      1.0      0.0      0.0   \n",
       "4  18300.0    120.0      2.0             1      0.0      0.0      0.0   \n",
       "\n",
       "   Brand_3  Brand_4  Brand_5  ...  Body_2  Body_3  Body_4  Body_5  Body_6  \\\n",
       "0      0.0      0.0      0.0  ...     0.0     1.0     0.0     0.0     0.0   \n",
       "1      0.0      0.0      0.0  ...     0.0     0.0     0.0     1.0     0.0   \n",
       "2      0.0      0.0      0.0  ...     0.0     1.0     0.0     0.0     0.0   \n",
       "3      0.0      0.0      0.0  ...     0.0     0.0     0.0     0.0     0.0   \n",
       "4      0.0      0.0      1.0  ...     0.0     0.0     0.0     0.0     0.0   \n",
       "\n",
       "   Engine_Type_0  Engine_Type_1  Engine_Type_2  Engine_Type_3  Engine_Type_4  \n",
       "0            0.0            0.0            0.0            1.0            0.0  \n",
       "1            1.0            0.0            0.0            0.0            0.0  \n",
       "2            0.0            1.0            0.0            0.0            0.0  \n",
       "3            0.0            0.0            0.0            1.0            0.0  \n",
       "4            0.0            0.0            0.0            1.0            0.0  \n",
       "\n",
       "[5 rows x 23 columns]"
      ]
     },
     "execution_count": 216,
     "metadata": {},
     "output_type": "execute_result"
    }
   ],
   "source": [
    "cars_data.head()"
   ]
  },
  {
   "cell_type": "code",
   "execution_count": 217,
   "id": "0bd6c44a",
   "metadata": {},
   "outputs": [],
   "source": [
    "#scaling the numerical values\n",
    "from sklearn.preprocessing import StandardScaler \n",
    "cols=['Price','Mileage','EngineV']\n",
    "for i in cols:\n",
    "    scale = StandardScaler().fit(cars_data[[i]])\n",
    "    cars_data[[i]]=scale.transform(cars_data[[i]])"
   ]
  },
  {
   "cell_type": "code",
   "execution_count": 218,
   "id": "84c6ba3f",
   "metadata": {},
   "outputs": [
    {
     "data": {
      "text/html": [
       "<div>\n",
       "<style scoped>\n",
       "    .dataframe tbody tr th:only-of-type {\n",
       "        vertical-align: middle;\n",
       "    }\n",
       "\n",
       "    .dataframe tbody tr th {\n",
       "        vertical-align: top;\n",
       "    }\n",
       "\n",
       "    .dataframe thead th {\n",
       "        text-align: right;\n",
       "    }\n",
       "</style>\n",
       "<table border=\"1\" class=\"dataframe\">\n",
       "  <thead>\n",
       "    <tr style=\"text-align: right;\">\n",
       "      <th></th>\n",
       "      <th>Price</th>\n",
       "      <th>Mileage</th>\n",
       "      <th>EngineV</th>\n",
       "      <th>Registration</th>\n",
       "      <th>Brand_0</th>\n",
       "      <th>Brand_1</th>\n",
       "      <th>Brand_2</th>\n",
       "      <th>Brand_3</th>\n",
       "      <th>Brand_4</th>\n",
       "      <th>Brand_5</th>\n",
       "      <th>...</th>\n",
       "      <th>Body_2</th>\n",
       "      <th>Body_3</th>\n",
       "      <th>Body_4</th>\n",
       "      <th>Body_5</th>\n",
       "      <th>Body_6</th>\n",
       "      <th>Engine_Type_0</th>\n",
       "      <th>Engine_Type_1</th>\n",
       "      <th>Engine_Type_2</th>\n",
       "      <th>Engine_Type_3</th>\n",
       "      <th>Engine_Type_4</th>\n",
       "    </tr>\n",
       "  </thead>\n",
       "  <tbody>\n",
       "    <tr>\n",
       "      <th>0</th>\n",
       "      <td>-0.594762</td>\n",
       "      <td>1.097173</td>\n",
       "      <td>-0.154921</td>\n",
       "      <td>1</td>\n",
       "      <td>0.0</td>\n",
       "      <td>1.0</td>\n",
       "      <td>0.0</td>\n",
       "      <td>0.0</td>\n",
       "      <td>0.0</td>\n",
       "      <td>0.0</td>\n",
       "      <td>...</td>\n",
       "      <td>0.0</td>\n",
       "      <td>1.0</td>\n",
       "      <td>0.0</td>\n",
       "      <td>0.0</td>\n",
       "      <td>0.0</td>\n",
       "      <td>0.0</td>\n",
       "      <td>0.0</td>\n",
       "      <td>0.0</td>\n",
       "      <td>1.0</td>\n",
       "      <td>0.0</td>\n",
       "    </tr>\n",
       "    <tr>\n",
       "      <th>1</th>\n",
       "      <td>-0.451421</td>\n",
       "      <td>2.548105</td>\n",
       "      <td>0.027438</td>\n",
       "      <td>1</td>\n",
       "      <td>0.0</td>\n",
       "      <td>0.0</td>\n",
       "      <td>1.0</td>\n",
       "      <td>0.0</td>\n",
       "      <td>0.0</td>\n",
       "      <td>0.0</td>\n",
       "      <td>...</td>\n",
       "      <td>0.0</td>\n",
       "      <td>0.0</td>\n",
       "      <td>0.0</td>\n",
       "      <td>1.0</td>\n",
       "      <td>0.0</td>\n",
       "      <td>1.0</td>\n",
       "      <td>0.0</td>\n",
       "      <td>0.0</td>\n",
       "      <td>0.0</td>\n",
       "      <td>0.0</td>\n",
       "    </tr>\n",
       "    <tr>\n",
       "      <th>2</th>\n",
       "      <td>-0.242220</td>\n",
       "      <td>1.880676</td>\n",
       "      <td>0.452941</td>\n",
       "      <td>1</td>\n",
       "      <td>0.0</td>\n",
       "      <td>0.0</td>\n",
       "      <td>1.0</td>\n",
       "      <td>0.0</td>\n",
       "      <td>0.0</td>\n",
       "      <td>0.0</td>\n",
       "      <td>...</td>\n",
       "      <td>0.0</td>\n",
       "      <td>1.0</td>\n",
       "      <td>0.0</td>\n",
       "      <td>0.0</td>\n",
       "      <td>0.0</td>\n",
       "      <td>0.0</td>\n",
       "      <td>1.0</td>\n",
       "      <td>0.0</td>\n",
       "      <td>0.0</td>\n",
       "      <td>0.0</td>\n",
       "    </tr>\n",
       "    <tr>\n",
       "      <th>3</th>\n",
       "      <td>0.133567</td>\n",
       "      <td>0.739277</td>\n",
       "      <td>0.290845</td>\n",
       "      <td>1</td>\n",
       "      <td>1.0</td>\n",
       "      <td>0.0</td>\n",
       "      <td>0.0</td>\n",
       "      <td>0.0</td>\n",
       "      <td>0.0</td>\n",
       "      <td>0.0</td>\n",
       "      <td>...</td>\n",
       "      <td>0.0</td>\n",
       "      <td>0.0</td>\n",
       "      <td>0.0</td>\n",
       "      <td>0.0</td>\n",
       "      <td>0.0</td>\n",
       "      <td>0.0</td>\n",
       "      <td>0.0</td>\n",
       "      <td>0.0</td>\n",
       "      <td>1.0</td>\n",
       "      <td>0.0</td>\n",
       "    </tr>\n",
       "    <tr>\n",
       "      <th>4</th>\n",
       "      <td>-0.048516</td>\n",
       "      <td>-0.421468</td>\n",
       "      <td>-0.154921</td>\n",
       "      <td>1</td>\n",
       "      <td>0.0</td>\n",
       "      <td>0.0</td>\n",
       "      <td>0.0</td>\n",
       "      <td>0.0</td>\n",
       "      <td>0.0</td>\n",
       "      <td>1.0</td>\n",
       "      <td>...</td>\n",
       "      <td>0.0</td>\n",
       "      <td>0.0</td>\n",
       "      <td>0.0</td>\n",
       "      <td>0.0</td>\n",
       "      <td>0.0</td>\n",
       "      <td>0.0</td>\n",
       "      <td>0.0</td>\n",
       "      <td>0.0</td>\n",
       "      <td>1.0</td>\n",
       "      <td>0.0</td>\n",
       "    </tr>\n",
       "  </tbody>\n",
       "</table>\n",
       "<p>5 rows × 23 columns</p>\n",
       "</div>"
      ],
      "text/plain": [
       "      Price   Mileage   EngineV  Registration  Brand_0  Brand_1  Brand_2  \\\n",
       "0 -0.594762  1.097173 -0.154921             1      0.0      1.0      0.0   \n",
       "1 -0.451421  2.548105  0.027438             1      0.0      0.0      1.0   \n",
       "2 -0.242220  1.880676  0.452941             1      0.0      0.0      1.0   \n",
       "3  0.133567  0.739277  0.290845             1      1.0      0.0      0.0   \n",
       "4 -0.048516 -0.421468 -0.154921             1      0.0      0.0      0.0   \n",
       "\n",
       "   Brand_3  Brand_4  Brand_5  ...  Body_2  Body_3  Body_4  Body_5  Body_6  \\\n",
       "0      0.0      0.0      0.0  ...     0.0     1.0     0.0     0.0     0.0   \n",
       "1      0.0      0.0      0.0  ...     0.0     0.0     0.0     1.0     0.0   \n",
       "2      0.0      0.0      0.0  ...     0.0     1.0     0.0     0.0     0.0   \n",
       "3      0.0      0.0      0.0  ...     0.0     0.0     0.0     0.0     0.0   \n",
       "4      0.0      0.0      1.0  ...     0.0     0.0     0.0     0.0     0.0   \n",
       "\n",
       "   Engine_Type_0  Engine_Type_1  Engine_Type_2  Engine_Type_3  Engine_Type_4  \n",
       "0            0.0            0.0            0.0            1.0            0.0  \n",
       "1            1.0            0.0            0.0            0.0            0.0  \n",
       "2            0.0            1.0            0.0            0.0            0.0  \n",
       "3            0.0            0.0            0.0            1.0            0.0  \n",
       "4            0.0            0.0            0.0            1.0            0.0  \n",
       "\n",
       "[5 rows x 23 columns]"
      ]
     },
     "execution_count": 218,
     "metadata": {},
     "output_type": "execute_result"
    }
   ],
   "source": [
    "cars_data.head()"
   ]
  },
  {
   "cell_type": "markdown",
   "id": "afb5e55f",
   "metadata": {},
   "source": [
    "3) Analyze and discuss the relationships between the data attributes, and between the data attributes and label. This involves computing the Pearson Correlation Coefficient (PCC) and generating scatter plots."
   ]
  },
  {
   "cell_type": "code",
   "execution_count": 219,
   "id": "ffe2de7e",
   "metadata": {},
   "outputs": [
    {
     "data": {
      "image/png": "[encoded data removed]",
      "text/plain": [
       "<Figure size 2160x720 with 3 Axes>"
      ]
     },
     "metadata": {
      "needs_background": "light"
     },
     "output_type": "display_data"
    }
   ],
   "source": [
    "#Determining the coorelation between different attributes and analysing their features\n",
    "plt.figure(figsize=(30, 10))               \n",
    "\n",
    "sns.heatmap(cars_data[cols].corr())               \n",
    "sns.heatmap(cars_data[cols].corr(), annot = True, vmin=-1, vmax=1, center= 0, cmap= 'coolwarm', linewidths=1, linecolor='black')  \n",
    "plt.show()"
   ]
  },
  {
   "cell_type": "markdown",
   "id": "88fddd67",
   "metadata": {},
   "source": [
    "In terms of numerical values, mileage seems to be the primary predictor for Price"
   ]
  },
  {
   "cell_type": "code",
   "execution_count": 220,
   "id": "9117ee83",
   "metadata": {},
   "outputs": [
    {
     "data": {
      "image/png": "[encoded data removed]",
      "text/plain": [
       "<Figure size 864x288 with 3 Axes>"
      ]
     },
     "metadata": {
      "needs_background": "light"
     },
     "output_type": "display_data"
    }
   ],
   "source": [
    "sns.pairplot(cars_data, x_vars=['Mileage','EngineV','Registration'], y_vars='Price', height=4, aspect=1, kind='scatter')\n",
    "plt.title('Scatter plot of Price vs Other Features')\n",
    "plt.show()"
   ]
  },
  {
   "cell_type": "code",
   "execution_count": 221,
   "id": "f19a3234",
   "metadata": {},
   "outputs": [
    {
     "data": {
      "text/plain": [
       "Price         AxesSubplot(0.125,0.71587;0.168478x0.16413)\n",
       "Mileage    AxesSubplot(0.327174,0.71587;0.168478x0.16413)\n",
       "EngineV    AxesSubplot(0.529348,0.71587;0.168478x0.16413)\n",
       "dtype: object"
      ]
     },
     "execution_count": 221,
     "metadata": {},
     "output_type": "execute_result"
    },
    {
     "data": {
      "image/png": "[encoded data removed]",
      "text/plain": [
       "<Figure size 720x576 with 16 Axes>"
      ]
     },
     "metadata": {
      "needs_background": "light"
     },
     "output_type": "display_data"
    }
   ],
   "source": [
    "#checking for outliers\n",
    "cars_data[[ 'Price','Mileage','EngineV']].plot(kind='box', subplots=True, layout=(4,4), figsize=(10,8), grid=True)"
   ]
  },
  {
   "cell_type": "code",
   "execution_count": 257,
   "id": "a03e9917",
   "metadata": {},
   "outputs": [],
   "source": [
    "#filling na values\n",
    "cars_data['Price'].fillna(cars_data['Price'].median(),inplace=True)"
   ]
  },
  {
   "cell_type": "code",
   "execution_count": 258,
   "id": "7ad4e519",
   "metadata": {},
   "outputs": [],
   "source": [
    "cars_data['Mileage'].fillna(cars_data['Mileage'].median(),inplace=True)"
   ]
  },
  {
   "cell_type": "code",
   "execution_count": 259,
   "id": "db125e8a",
   "metadata": {},
   "outputs": [],
   "source": [
    "cars_data['EngineV'].fillna(cars_data['EngineV'].median(),inplace=True)"
   ]
  },
  {
   "cell_type": "code",
   "execution_count": 222,
   "id": "df45cefe",
   "metadata": {},
   "outputs": [
    {
     "name": "stderr",
     "output_type": "stream",
     "text": [
      "/var/folders/t2/cjw60qy93xng7qgh7srlxpj00000gn/T/ipykernel_16537/1433545272.py:2: SettingWithCopyWarning: \n",
      "A value is trying to be set on a copy of a slice from a DataFrame\n",
      "\n",
      "See the caveats in the documentation: https://pandas.pydata.org/pandas-docs/stable/user_guide/indexing.html#returning-a-view-versus-a-copy\n",
      "  cars_data['Price'][cars_data['Price']>u]=u\n"
     ]
    }
   ],
   "source": [
    "#for outliers, the ones that are in the upper bound are replaced by the upperbound\n",
    "u=cars_data['Price'].quantile(0.99)\n",
    "cars_data['Price'][cars_data['Price']>u]=u"
   ]
  },
  {
   "cell_type": "code",
   "execution_count": 223,
   "id": "91263651",
   "metadata": {},
   "outputs": [
    {
     "name": "stderr",
     "output_type": "stream",
     "text": [
      "/var/folders/t2/cjw60qy93xng7qgh7srlxpj00000gn/T/ipykernel_16537/4159040359.py:2: SettingWithCopyWarning: \n",
      "A value is trying to be set on a copy of a slice from a DataFrame\n",
      "\n",
      "See the caveats in the documentation: https://pandas.pydata.org/pandas-docs/stable/user_guide/indexing.html#returning-a-view-versus-a-copy\n",
      "  cars_data['Mileage'][cars_data['Mileage']>ul]=ul\n"
     ]
    }
   ],
   "source": [
    "ul=cars_data['Mileage'].quantile(0.99)\n",
    "cars_data['Mileage'][cars_data['Mileage']>ul]=ul"
   ]
  },
  {
   "cell_type": "code",
   "execution_count": 224,
   "id": "cd76edb3",
   "metadata": {},
   "outputs": [
    {
     "name": "stderr",
     "output_type": "stream",
     "text": [
      "/var/folders/t2/cjw60qy93xng7qgh7srlxpj00000gn/T/ipykernel_16537/1044007886.py:2: SettingWithCopyWarning: \n",
      "A value is trying to be set on a copy of a slice from a DataFrame\n",
      "\n",
      "See the caveats in the documentation: https://pandas.pydata.org/pandas-docs/stable/user_guide/indexing.html#returning-a-view-versus-a-copy\n",
      "  cars_data['EngineV'][cars_data['EngineV']>ue]=ue\n"
     ]
    }
   ],
   "source": [
    "ue=cars_data['EngineV'].quantile(0.99)\n",
    "cars_data['EngineV'][cars_data['EngineV']>ue]=ue"
   ]
  },
  {
   "cell_type": "code",
   "execution_count": 225,
   "id": "d7c15bd0",
   "metadata": {},
   "outputs": [
    {
     "data": {
      "text/plain": [
       "Price         AxesSubplot(0.125,0.71587;0.168478x0.16413)\n",
       "Mileage    AxesSubplot(0.327174,0.71587;0.168478x0.16413)\n",
       "EngineV    AxesSubplot(0.529348,0.71587;0.168478x0.16413)\n",
       "dtype: object"
      ]
     },
     "execution_count": 225,
     "metadata": {},
     "output_type": "execute_result"
    },
    {
     "data": {
      "image/png": "[encoded data removed]",
      "text/plain": [
       "<Figure size 720x576 with 16 Axes>"
      ]
     },
     "metadata": {
      "needs_background": "light"
     },
     "output_type": "display_data"
    }
   ],
   "source": [
    "#outliers removed\n",
    "cars_data[[ 'Price','Mileage','EngineV']].plot(kind='box', subplots=True, layout=(4,4), figsize=(10,8), grid=True)"
   ]
  },
  {
   "cell_type": "code",
   "execution_count": 260,
   "id": "3826e551",
   "metadata": {},
   "outputs": [
    {
     "data": {
      "image/png": "[encoded data removed]",
      "text/plain": [
       "<Figure size 864x288 with 3 Axes>"
      ]
     },
     "metadata": {
      "needs_background": "light"
     },
     "output_type": "display_data"
    }
   ],
   "source": [
    "#checking scatterplot for relation\n",
    "sns.pairplot(cars_data, x_vars=['Mileage','EngineV','Registration'], y_vars='Price', height=4, aspect=1, kind='scatter')\n",
    "plt.title('Scatter plot of Price vs Other Features')\n",
    "plt.show()"
   ]
  },
  {
   "cell_type": "markdown",
   "id": "1c581614",
   "metadata": {},
   "source": [
    "4) Select 20% of the data for testing. Describe how you did that and verify that your test portion of the data is representative of the entire dataset."
   ]
  },
  {
   "cell_type": "code",
   "execution_count": 261,
   "id": "87eb177a",
   "metadata": {},
   "outputs": [],
   "source": [
    "from sklearn.model_selection import train_test_split"
   ]
  },
  {
   "cell_type": "code",
   "execution_count": 269,
   "id": "8db0bccb",
   "metadata": {},
   "outputs": [],
   "source": [
    "x = cars_data.drop('Price', axis=1) # predictors\n",
    "y = cars_data['Price'] # target var\n",
    "np.nan_to_num(x)\n",
    "np.nan_to_num(y)\n",
    "x = x.replace((np.inf, -np.inf, np.nan), 0).reset_index(drop=True)\n",
    "y = y.replace((np.inf, -np.inf, np.nan), 0).reset_index(drop=True)\n",
    "# splitting data into training: 80% and testing: 20%\n",
    "x_train, x_test, y_train, y_test = train_test_split(x, y, test_size = 0.2, random_state = 0)"
   ]
  },
  {
   "cell_type": "code",
   "execution_count": 270,
   "id": "17932ae3",
   "metadata": {},
   "outputs": [
    {
     "data": {
      "text/html": [
       "<div>\n",
       "<style scoped>\n",
       "    .dataframe tbody tr th:only-of-type {\n",
       "        vertical-align: middle;\n",
       "    }\n",
       "\n",
       "    .dataframe tbody tr th {\n",
       "        vertical-align: top;\n",
       "    }\n",
       "\n",
       "    .dataframe thead th {\n",
       "        text-align: right;\n",
       "    }\n",
       "</style>\n",
       "<table border=\"1\" class=\"dataframe\">\n",
       "  <thead>\n",
       "    <tr style=\"text-align: right;\">\n",
       "      <th></th>\n",
       "      <th>Price</th>\n",
       "      <th>Mileage</th>\n",
       "      <th>EngineV</th>\n",
       "      <th>Registration</th>\n",
       "      <th>Brand_0</th>\n",
       "      <th>Brand_1</th>\n",
       "      <th>Brand_2</th>\n",
       "      <th>Brand_3</th>\n",
       "      <th>Brand_4</th>\n",
       "      <th>Brand_5</th>\n",
       "      <th>...</th>\n",
       "      <th>Body_2</th>\n",
       "      <th>Body_3</th>\n",
       "      <th>Body_4</th>\n",
       "      <th>Body_5</th>\n",
       "      <th>Body_6</th>\n",
       "      <th>Engine_Type_0</th>\n",
       "      <th>Engine_Type_1</th>\n",
       "      <th>Engine_Type_2</th>\n",
       "      <th>Engine_Type_3</th>\n",
       "      <th>Engine_Type_4</th>\n",
       "    </tr>\n",
       "  </thead>\n",
       "  <tbody>\n",
       "    <tr>\n",
       "      <th>count</th>\n",
       "      <td>4345.000000</td>\n",
       "      <td>4345.000000</td>\n",
       "      <td>4345.000000</td>\n",
       "      <td>4345.000000</td>\n",
       "      <td>4025.000000</td>\n",
       "      <td>4025.000000</td>\n",
       "      <td>4025.000000</td>\n",
       "      <td>4025.000000</td>\n",
       "      <td>4025.000000</td>\n",
       "      <td>4025.000000</td>\n",
       "      <td>...</td>\n",
       "      <td>4320.000000</td>\n",
       "      <td>4320.000000</td>\n",
       "      <td>4320.000000</td>\n",
       "      <td>4320.000000</td>\n",
       "      <td>4320.000000</td>\n",
       "      <td>4344.000000</td>\n",
       "      <td>4344.000000</td>\n",
       "      <td>4344.000000</td>\n",
       "      <td>4344.000000</td>\n",
       "      <td>4344.000000</td>\n",
       "    </tr>\n",
       "    <tr>\n",
       "      <th>mean</th>\n",
       "      <td>-0.043595</td>\n",
       "      <td>-0.011874</td>\n",
       "      <td>-0.060491</td>\n",
       "      <td>0.988262</td>\n",
       "      <td>0.104348</td>\n",
       "      <td>0.159006</td>\n",
       "      <td>0.204472</td>\n",
       "      <td>0.076273</td>\n",
       "      <td>0.110559</td>\n",
       "      <td>0.126708</td>\n",
       "      <td>...</td>\n",
       "      <td>0.091204</td>\n",
       "      <td>0.355093</td>\n",
       "      <td>0.087731</td>\n",
       "      <td>0.144907</td>\n",
       "      <td>0.068287</td>\n",
       "      <td>0.428407</td>\n",
       "      <td>0.135820</td>\n",
       "      <td>0.024401</td>\n",
       "      <td>0.337937</td>\n",
       "      <td>0.073435</td>\n",
       "    </tr>\n",
       "    <tr>\n",
       "      <th>std</th>\n",
       "      <td>0.822845</td>\n",
       "      <td>0.931222</td>\n",
       "      <td>0.197083</td>\n",
       "      <td>0.398663</td>\n",
       "      <td>0.305749</td>\n",
       "      <td>0.365727</td>\n",
       "      <td>0.403365</td>\n",
       "      <td>0.265468</td>\n",
       "      <td>0.313624</td>\n",
       "      <td>0.332687</td>\n",
       "      <td>...</td>\n",
       "      <td>0.287932</td>\n",
       "      <td>0.478597</td>\n",
       "      <td>0.282937</td>\n",
       "      <td>0.352048</td>\n",
       "      <td>0.252267</td>\n",
       "      <td>0.494905</td>\n",
       "      <td>0.342636</td>\n",
       "      <td>0.154310</td>\n",
       "      <td>0.473062</td>\n",
       "      <td>0.260879</td>\n",
       "    </tr>\n",
       "    <tr>\n",
       "      <th>min</th>\n",
       "      <td>-0.734229</td>\n",
       "      <td>-1.582214</td>\n",
       "      <td>-0.438590</td>\n",
       "      <td>0.000000</td>\n",
       "      <td>0.000000</td>\n",
       "      <td>0.000000</td>\n",
       "      <td>0.000000</td>\n",
       "      <td>0.000000</td>\n",
       "      <td>0.000000</td>\n",
       "      <td>0.000000</td>\n",
       "      <td>...</td>\n",
       "      <td>0.000000</td>\n",
       "      <td>0.000000</td>\n",
       "      <td>0.000000</td>\n",
       "      <td>0.000000</td>\n",
       "      <td>0.000000</td>\n",
       "      <td>0.000000</td>\n",
       "      <td>0.000000</td>\n",
       "      <td>0.000000</td>\n",
       "      <td>0.000000</td>\n",
       "      <td>0.000000</td>\n",
       "    </tr>\n",
       "    <tr>\n",
       "      <th>25%</th>\n",
       "      <td>-0.474665</td>\n",
       "      <td>-0.643944</td>\n",
       "      <td>-0.175183</td>\n",
       "      <td>1.000000</td>\n",
       "      <td>0.000000</td>\n",
       "      <td>0.000000</td>\n",
       "      <td>0.000000</td>\n",
       "      <td>0.000000</td>\n",
       "      <td>0.000000</td>\n",
       "      <td>0.000000</td>\n",
       "      <td>...</td>\n",
       "      <td>0.000000</td>\n",
       "      <td>0.000000</td>\n",
       "      <td>0.000000</td>\n",
       "      <td>0.000000</td>\n",
       "      <td>0.000000</td>\n",
       "      <td>0.000000</td>\n",
       "      <td>0.000000</td>\n",
       "      <td>0.000000</td>\n",
       "      <td>0.000000</td>\n",
       "      <td>0.000000</td>\n",
       "    </tr>\n",
       "    <tr>\n",
       "      <th>50%</th>\n",
       "      <td>-0.311953</td>\n",
       "      <td>-0.053899</td>\n",
       "      <td>-0.114397</td>\n",
       "      <td>1.000000</td>\n",
       "      <td>0.000000</td>\n",
       "      <td>0.000000</td>\n",
       "      <td>0.000000</td>\n",
       "      <td>0.000000</td>\n",
       "      <td>0.000000</td>\n",
       "      <td>0.000000</td>\n",
       "      <td>...</td>\n",
       "      <td>0.000000</td>\n",
       "      <td>0.000000</td>\n",
       "      <td>0.000000</td>\n",
       "      <td>0.000000</td>\n",
       "      <td>0.000000</td>\n",
       "      <td>0.000000</td>\n",
       "      <td>0.000000</td>\n",
       "      <td>0.000000</td>\n",
       "      <td>0.000000</td>\n",
       "      <td>0.000000</td>\n",
       "    </tr>\n",
       "    <tr>\n",
       "      <th>75%</th>\n",
       "      <td>0.036714</td>\n",
       "      <td>0.545819</td>\n",
       "      <td>0.047700</td>\n",
       "      <td>1.000000</td>\n",
       "      <td>0.000000</td>\n",
       "      <td>0.000000</td>\n",
       "      <td>0.000000</td>\n",
       "      <td>0.000000</td>\n",
       "      <td>0.000000</td>\n",
       "      <td>0.000000</td>\n",
       "      <td>...</td>\n",
       "      <td>0.000000</td>\n",
       "      <td>1.000000</td>\n",
       "      <td>0.000000</td>\n",
       "      <td>0.000000</td>\n",
       "      <td>0.000000</td>\n",
       "      <td>1.000000</td>\n",
       "      <td>0.000000</td>\n",
       "      <td>0.000000</td>\n",
       "      <td>1.000000</td>\n",
       "      <td>0.000000</td>\n",
       "    </tr>\n",
       "    <tr>\n",
       "      <th>max</th>\n",
       "      <td>4.271577</td>\n",
       "      <td>2.620845</td>\n",
       "      <td>0.686360</td>\n",
       "      <td>2.000000</td>\n",
       "      <td>1.000000</td>\n",
       "      <td>1.000000</td>\n",
       "      <td>1.000000</td>\n",
       "      <td>1.000000</td>\n",
       "      <td>1.000000</td>\n",
       "      <td>1.000000</td>\n",
       "      <td>...</td>\n",
       "      <td>1.000000</td>\n",
       "      <td>1.000000</td>\n",
       "      <td>1.000000</td>\n",
       "      <td>1.000000</td>\n",
       "      <td>1.000000</td>\n",
       "      <td>1.000000</td>\n",
       "      <td>1.000000</td>\n",
       "      <td>1.000000</td>\n",
       "      <td>1.000000</td>\n",
       "      <td>1.000000</td>\n",
       "    </tr>\n",
       "  </tbody>\n",
       "</table>\n",
       "<p>8 rows × 23 columns</p>\n",
       "</div>"
      ],
      "text/plain": [
       "             Price      Mileage      EngineV  Registration      Brand_0  \\\n",
       "count  4345.000000  4345.000000  4345.000000   4345.000000  4025.000000   \n",
       "mean     -0.043595    -0.011874    -0.060491      0.988262     0.104348   \n",
       "std       0.822845     0.931222     0.197083      0.398663     0.305749   \n",
       "min      -0.734229    -1.582214    -0.438590      0.000000     0.000000   \n",
       "25%      -0.474665    -0.643944    -0.175183      1.000000     0.000000   \n",
       "50%      -0.311953    -0.053899    -0.114397      1.000000     0.000000   \n",
       "75%       0.036714     0.545819     0.047700      1.000000     0.000000   \n",
       "max       4.271577     2.620845     0.686360      2.000000     1.000000   \n",
       "\n",
       "           Brand_1      Brand_2      Brand_3      Brand_4      Brand_5  ...  \\\n",
       "count  4025.000000  4025.000000  4025.000000  4025.000000  4025.000000  ...   \n",
       "mean      0.159006     0.204472     0.076273     0.110559     0.126708  ...   \n",
       "std       0.365727     0.403365     0.265468     0.313624     0.332687  ...   \n",
       "min       0.000000     0.000000     0.000000     0.000000     0.000000  ...   \n",
       "25%       0.000000     0.000000     0.000000     0.000000     0.000000  ...   \n",
       "50%       0.000000     0.000000     0.000000     0.000000     0.000000  ...   \n",
       "75%       0.000000     0.000000     0.000000     0.000000     0.000000  ...   \n",
       "max       1.000000     1.000000     1.000000     1.000000     1.000000  ...   \n",
       "\n",
       "            Body_2       Body_3       Body_4       Body_5       Body_6  \\\n",
       "count  4320.000000  4320.000000  4320.000000  4320.000000  4320.000000   \n",
       "mean      0.091204     0.355093     0.087731     0.144907     0.068287   \n",
       "std       0.287932     0.478597     0.282937     0.352048     0.252267   \n",
       "min       0.000000     0.000000     0.000000     0.000000     0.000000   \n",
       "25%       0.000000     0.000000     0.000000     0.000000     0.000000   \n",
       "50%       0.000000     0.000000     0.000000     0.000000     0.000000   \n",
       "75%       0.000000     1.000000     0.000000     0.000000     0.000000   \n",
       "max       1.000000     1.000000     1.000000     1.000000     1.000000   \n",
       "\n",
       "       Engine_Type_0  Engine_Type_1  Engine_Type_2  Engine_Type_3  \\\n",
       "count    4344.000000    4344.000000    4344.000000    4344.000000   \n",
       "mean        0.428407       0.135820       0.024401       0.337937   \n",
       "std         0.494905       0.342636       0.154310       0.473062   \n",
       "min         0.000000       0.000000       0.000000       0.000000   \n",
       "25%         0.000000       0.000000       0.000000       0.000000   \n",
       "50%         0.000000       0.000000       0.000000       0.000000   \n",
       "75%         1.000000       0.000000       0.000000       1.000000   \n",
       "max         1.000000       1.000000       1.000000       1.000000   \n",
       "\n",
       "       Engine_Type_4  \n",
       "count    4344.000000  \n",
       "mean        0.073435  \n",
       "std         0.260879  \n",
       "min         0.000000  \n",
       "25%         0.000000  \n",
       "50%         0.000000  \n",
       "75%         0.000000  \n",
       "max         1.000000  \n",
       "\n",
       "[8 rows x 23 columns]"
      ]
     },
     "execution_count": 270,
     "metadata": {},
     "output_type": "execute_result"
    }
   ],
   "source": [
    "\n",
    "cars_data.describe(include='all')"
   ]
  },
  {
   "cell_type": "code",
   "execution_count": 271,
   "id": "d3032772",
   "metadata": {},
   "outputs": [
    {
     "data": {
      "text/html": [
       "<div>\n",
       "<style scoped>\n",
       "    .dataframe tbody tr th:only-of-type {\n",
       "        vertical-align: middle;\n",
       "    }\n",
       "\n",
       "    .dataframe tbody tr th {\n",
       "        vertical-align: top;\n",
       "    }\n",
       "\n",
       "    .dataframe thead th {\n",
       "        text-align: right;\n",
       "    }\n",
       "</style>\n",
       "<table border=\"1\" class=\"dataframe\">\n",
       "  <thead>\n",
       "    <tr style=\"text-align: right;\">\n",
       "      <th></th>\n",
       "      <th>Mileage</th>\n",
       "      <th>EngineV</th>\n",
       "      <th>Registration</th>\n",
       "      <th>Brand_0</th>\n",
       "      <th>Brand_1</th>\n",
       "      <th>Brand_2</th>\n",
       "      <th>Brand_3</th>\n",
       "      <th>Brand_4</th>\n",
       "      <th>Brand_5</th>\n",
       "      <th>Brand_6</th>\n",
       "      <th>...</th>\n",
       "      <th>Body_2</th>\n",
       "      <th>Body_3</th>\n",
       "      <th>Body_4</th>\n",
       "      <th>Body_5</th>\n",
       "      <th>Body_6</th>\n",
       "      <th>Engine_Type_0</th>\n",
       "      <th>Engine_Type_1</th>\n",
       "      <th>Engine_Type_2</th>\n",
       "      <th>Engine_Type_3</th>\n",
       "      <th>Engine_Type_4</th>\n",
       "    </tr>\n",
       "  </thead>\n",
       "  <tbody>\n",
       "    <tr>\n",
       "      <th>count</th>\n",
       "      <td>3476.000000</td>\n",
       "      <td>3476.000000</td>\n",
       "      <td>3476.000000</td>\n",
       "      <td>3476.000000</td>\n",
       "      <td>3476.000000</td>\n",
       "      <td>3476.000000</td>\n",
       "      <td>3476.000000</td>\n",
       "      <td>3476.000000</td>\n",
       "      <td>3476.000000</td>\n",
       "      <td>3476.000000</td>\n",
       "      <td>...</td>\n",
       "      <td>3476.000000</td>\n",
       "      <td>3476.000000</td>\n",
       "      <td>3476.000000</td>\n",
       "      <td>3476.000000</td>\n",
       "      <td>3476.000000</td>\n",
       "      <td>3476.000000</td>\n",
       "      <td>3476.000000</td>\n",
       "      <td>3476.000000</td>\n",
       "      <td>3476.000000</td>\n",
       "      <td>3476.000000</td>\n",
       "    </tr>\n",
       "    <tr>\n",
       "      <th>mean</th>\n",
       "      <td>-0.006410</td>\n",
       "      <td>-0.059451</td>\n",
       "      <td>0.985040</td>\n",
       "      <td>0.097814</td>\n",
       "      <td>0.144419</td>\n",
       "      <td>0.191312</td>\n",
       "      <td>0.069908</td>\n",
       "      <td>0.100690</td>\n",
       "      <td>0.116801</td>\n",
       "      <td>0.204545</td>\n",
       "      <td>...</td>\n",
       "      <td>0.089183</td>\n",
       "      <td>0.352129</td>\n",
       "      <td>0.088032</td>\n",
       "      <td>0.145282</td>\n",
       "      <td>0.068470</td>\n",
       "      <td>0.427215</td>\n",
       "      <td>0.133199</td>\n",
       "      <td>0.024453</td>\n",
       "      <td>0.340621</td>\n",
       "      <td>0.074511</td>\n",
       "    </tr>\n",
       "    <tr>\n",
       "      <th>std</th>\n",
       "      <td>0.939603</td>\n",
       "      <td>0.196194</td>\n",
       "      <td>0.396104</td>\n",
       "      <td>0.297105</td>\n",
       "      <td>0.351565</td>\n",
       "      <td>0.393391</td>\n",
       "      <td>0.255028</td>\n",
       "      <td>0.300962</td>\n",
       "      <td>0.321229</td>\n",
       "      <td>0.403427</td>\n",
       "      <td>...</td>\n",
       "      <td>0.285049</td>\n",
       "      <td>0.477703</td>\n",
       "      <td>0.283383</td>\n",
       "      <td>0.352436</td>\n",
       "      <td>0.252586</td>\n",
       "      <td>0.494745</td>\n",
       "      <td>0.339839</td>\n",
       "      <td>0.154474</td>\n",
       "      <td>0.473986</td>\n",
       "      <td>0.262638</td>\n",
       "    </tr>\n",
       "    <tr>\n",
       "      <th>min</th>\n",
       "      <td>-1.582214</td>\n",
       "      <td>-0.438590</td>\n",
       "      <td>0.000000</td>\n",
       "      <td>0.000000</td>\n",
       "      <td>0.000000</td>\n",
       "      <td>0.000000</td>\n",
       "      <td>0.000000</td>\n",
       "      <td>0.000000</td>\n",
       "      <td>0.000000</td>\n",
       "      <td>0.000000</td>\n",
       "      <td>...</td>\n",
       "      <td>0.000000</td>\n",
       "      <td>0.000000</td>\n",
       "      <td>0.000000</td>\n",
       "      <td>0.000000</td>\n",
       "      <td>0.000000</td>\n",
       "      <td>0.000000</td>\n",
       "      <td>0.000000</td>\n",
       "      <td>0.000000</td>\n",
       "      <td>0.000000</td>\n",
       "      <td>0.000000</td>\n",
       "    </tr>\n",
       "    <tr>\n",
       "      <th>25%</th>\n",
       "      <td>-0.643944</td>\n",
       "      <td>-0.175183</td>\n",
       "      <td>1.000000</td>\n",
       "      <td>0.000000</td>\n",
       "      <td>0.000000</td>\n",
       "      <td>0.000000</td>\n",
       "      <td>0.000000</td>\n",
       "      <td>0.000000</td>\n",
       "      <td>0.000000</td>\n",
       "      <td>0.000000</td>\n",
       "      <td>...</td>\n",
       "      <td>0.000000</td>\n",
       "      <td>0.000000</td>\n",
       "      <td>0.000000</td>\n",
       "      <td>0.000000</td>\n",
       "      <td>0.000000</td>\n",
       "      <td>0.000000</td>\n",
       "      <td>0.000000</td>\n",
       "      <td>0.000000</td>\n",
       "      <td>0.000000</td>\n",
       "      <td>0.000000</td>\n",
       "    </tr>\n",
       "    <tr>\n",
       "      <th>50%</th>\n",
       "      <td>-0.053899</td>\n",
       "      <td>-0.114397</td>\n",
       "      <td>1.000000</td>\n",
       "      <td>0.000000</td>\n",
       "      <td>0.000000</td>\n",
       "      <td>0.000000</td>\n",
       "      <td>0.000000</td>\n",
       "      <td>0.000000</td>\n",
       "      <td>0.000000</td>\n",
       "      <td>0.000000</td>\n",
       "      <td>...</td>\n",
       "      <td>0.000000</td>\n",
       "      <td>0.000000</td>\n",
       "      <td>0.000000</td>\n",
       "      <td>0.000000</td>\n",
       "      <td>0.000000</td>\n",
       "      <td>0.000000</td>\n",
       "      <td>0.000000</td>\n",
       "      <td>0.000000</td>\n",
       "      <td>0.000000</td>\n",
       "      <td>0.000000</td>\n",
       "    </tr>\n",
       "    <tr>\n",
       "      <th>75%</th>\n",
       "      <td>0.574838</td>\n",
       "      <td>0.047700</td>\n",
       "      <td>1.000000</td>\n",
       "      <td>0.000000</td>\n",
       "      <td>0.000000</td>\n",
       "      <td>0.000000</td>\n",
       "      <td>0.000000</td>\n",
       "      <td>0.000000</td>\n",
       "      <td>0.000000</td>\n",
       "      <td>0.000000</td>\n",
       "      <td>...</td>\n",
       "      <td>0.000000</td>\n",
       "      <td>1.000000</td>\n",
       "      <td>0.000000</td>\n",
       "      <td>0.000000</td>\n",
       "      <td>0.000000</td>\n",
       "      <td>1.000000</td>\n",
       "      <td>0.000000</td>\n",
       "      <td>0.000000</td>\n",
       "      <td>1.000000</td>\n",
       "      <td>0.000000</td>\n",
       "    </tr>\n",
       "    <tr>\n",
       "      <th>max</th>\n",
       "      <td>2.620845</td>\n",
       "      <td>0.686360</td>\n",
       "      <td>2.000000</td>\n",
       "      <td>1.000000</td>\n",
       "      <td>1.000000</td>\n",
       "      <td>1.000000</td>\n",
       "      <td>1.000000</td>\n",
       "      <td>1.000000</td>\n",
       "      <td>1.000000</td>\n",
       "      <td>1.000000</td>\n",
       "      <td>...</td>\n",
       "      <td>1.000000</td>\n",
       "      <td>1.000000</td>\n",
       "      <td>1.000000</td>\n",
       "      <td>1.000000</td>\n",
       "      <td>1.000000</td>\n",
       "      <td>1.000000</td>\n",
       "      <td>1.000000</td>\n",
       "      <td>1.000000</td>\n",
       "      <td>1.000000</td>\n",
       "      <td>1.000000</td>\n",
       "    </tr>\n",
       "  </tbody>\n",
       "</table>\n",
       "<p>8 rows × 22 columns</p>\n",
       "</div>"
      ],
      "text/plain": [
       "           Mileage      EngineV  Registration      Brand_0      Brand_1  \\\n",
       "count  3476.000000  3476.000000   3476.000000  3476.000000  3476.000000   \n",
       "mean     -0.006410    -0.059451      0.985040     0.097814     0.144419   \n",
       "std       0.939603     0.196194      0.396104     0.297105     0.351565   \n",
       "min      -1.582214    -0.438590      0.000000     0.000000     0.000000   \n",
       "25%      -0.643944    -0.175183      1.000000     0.000000     0.000000   \n",
       "50%      -0.053899    -0.114397      1.000000     0.000000     0.000000   \n",
       "75%       0.574838     0.047700      1.000000     0.000000     0.000000   \n",
       "max       2.620845     0.686360      2.000000     1.000000     1.000000   \n",
       "\n",
       "           Brand_2      Brand_3      Brand_4      Brand_5      Brand_6  ...  \\\n",
       "count  3476.000000  3476.000000  3476.000000  3476.000000  3476.000000  ...   \n",
       "mean      0.191312     0.069908     0.100690     0.116801     0.204545  ...   \n",
       "std       0.393391     0.255028     0.300962     0.321229     0.403427  ...   \n",
       "min       0.000000     0.000000     0.000000     0.000000     0.000000  ...   \n",
       "25%       0.000000     0.000000     0.000000     0.000000     0.000000  ...   \n",
       "50%       0.000000     0.000000     0.000000     0.000000     0.000000  ...   \n",
       "75%       0.000000     0.000000     0.000000     0.000000     0.000000  ...   \n",
       "max       1.000000     1.000000     1.000000     1.000000     1.000000  ...   \n",
       "\n",
       "            Body_2       Body_3       Body_4       Body_5       Body_6  \\\n",
       "count  3476.000000  3476.000000  3476.000000  3476.000000  3476.000000   \n",
       "mean      0.089183     0.352129     0.088032     0.145282     0.068470   \n",
       "std       0.285049     0.477703     0.283383     0.352436     0.252586   \n",
       "min       0.000000     0.000000     0.000000     0.000000     0.000000   \n",
       "25%       0.000000     0.000000     0.000000     0.000000     0.000000   \n",
       "50%       0.000000     0.000000     0.000000     0.000000     0.000000   \n",
       "75%       0.000000     1.000000     0.000000     0.000000     0.000000   \n",
       "max       1.000000     1.000000     1.000000     1.000000     1.000000   \n",
       "\n",
       "       Engine_Type_0  Engine_Type_1  Engine_Type_2  Engine_Type_3  \\\n",
       "count    3476.000000    3476.000000    3476.000000    3476.000000   \n",
       "mean        0.427215       0.133199       0.024453       0.340621   \n",
       "std         0.494745       0.339839       0.154474       0.473986   \n",
       "min         0.000000       0.000000       0.000000       0.000000   \n",
       "25%         0.000000       0.000000       0.000000       0.000000   \n",
       "50%         0.000000       0.000000       0.000000       0.000000   \n",
       "75%         1.000000       0.000000       0.000000       1.000000   \n",
       "max         1.000000       1.000000       1.000000       1.000000   \n",
       "\n",
       "       Engine_Type_4  \n",
       "count    3476.000000  \n",
       "mean        0.074511  \n",
       "std         0.262638  \n",
       "min         0.000000  \n",
       "25%         0.000000  \n",
       "50%         0.000000  \n",
       "75%         0.000000  \n",
       "max         1.000000  \n",
       "\n",
       "[8 rows x 22 columns]"
      ]
     },
     "execution_count": 271,
     "metadata": {},
     "output_type": "execute_result"
    }
   ],
   "source": [
    "x_train.describe(include='all')"
   ]
  },
  {
   "cell_type": "code",
   "execution_count": 272,
   "id": "55313491",
   "metadata": {},
   "outputs": [
    {
     "data": {
      "text/html": [
       "<div>\n",
       "<style scoped>\n",
       "    .dataframe tbody tr th:only-of-type {\n",
       "        vertical-align: middle;\n",
       "    }\n",
       "\n",
       "    .dataframe tbody tr th {\n",
       "        vertical-align: top;\n",
       "    }\n",
       "\n",
       "    .dataframe thead th {\n",
       "        text-align: right;\n",
       "    }\n",
       "</style>\n",
       "<table border=\"1\" class=\"dataframe\">\n",
       "  <thead>\n",
       "    <tr style=\"text-align: right;\">\n",
       "      <th></th>\n",
       "      <th>Mileage</th>\n",
       "      <th>EngineV</th>\n",
       "      <th>Registration</th>\n",
       "      <th>Brand_0</th>\n",
       "      <th>Brand_1</th>\n",
       "      <th>Brand_2</th>\n",
       "      <th>Brand_3</th>\n",
       "      <th>Brand_4</th>\n",
       "      <th>Brand_5</th>\n",
       "      <th>Brand_6</th>\n",
       "      <th>...</th>\n",
       "      <th>Body_2</th>\n",
       "      <th>Body_3</th>\n",
       "      <th>Body_4</th>\n",
       "      <th>Body_5</th>\n",
       "      <th>Body_6</th>\n",
       "      <th>Engine_Type_0</th>\n",
       "      <th>Engine_Type_1</th>\n",
       "      <th>Engine_Type_2</th>\n",
       "      <th>Engine_Type_3</th>\n",
       "      <th>Engine_Type_4</th>\n",
       "    </tr>\n",
       "  </thead>\n",
       "  <tbody>\n",
       "    <tr>\n",
       "      <th>count</th>\n",
       "      <td>869.000000</td>\n",
       "      <td>869.000000</td>\n",
       "      <td>869.000000</td>\n",
       "      <td>869.000000</td>\n",
       "      <td>869.000000</td>\n",
       "      <td>869.000000</td>\n",
       "      <td>869.000000</td>\n",
       "      <td>869.000000</td>\n",
       "      <td>869.000000</td>\n",
       "      <td>869.000000</td>\n",
       "      <td>...</td>\n",
       "      <td>869.000000</td>\n",
       "      <td>869.000000</td>\n",
       "      <td>869.000000</td>\n",
       "      <td>869.000000</td>\n",
       "      <td>869.000000</td>\n",
       "      <td>869.000000</td>\n",
       "      <td>869.000000</td>\n",
       "      <td>869.000000</td>\n",
       "      <td>869.000000</td>\n",
       "      <td>869.000000</td>\n",
       "    </tr>\n",
       "    <tr>\n",
       "      <th>mean</th>\n",
       "      <td>-0.033729</td>\n",
       "      <td>-0.064649</td>\n",
       "      <td>1.001151</td>\n",
       "      <td>0.092060</td>\n",
       "      <td>0.158803</td>\n",
       "      <td>0.181818</td>\n",
       "      <td>0.073648</td>\n",
       "      <td>0.109321</td>\n",
       "      <td>0.119678</td>\n",
       "      <td>0.194476</td>\n",
       "      <td>...</td>\n",
       "      <td>0.096663</td>\n",
       "      <td>0.356732</td>\n",
       "      <td>0.084005</td>\n",
       "      <td>0.139241</td>\n",
       "      <td>0.065593</td>\n",
       "      <td>0.432681</td>\n",
       "      <td>0.146145</td>\n",
       "      <td>0.024166</td>\n",
       "      <td>0.326812</td>\n",
       "      <td>0.069045</td>\n",
       "    </tr>\n",
       "    <tr>\n",
       "      <th>std</th>\n",
       "      <td>0.897106</td>\n",
       "      <td>0.200660</td>\n",
       "      <td>0.408717</td>\n",
       "      <td>0.289277</td>\n",
       "      <td>0.365703</td>\n",
       "      <td>0.385917</td>\n",
       "      <td>0.261347</td>\n",
       "      <td>0.312221</td>\n",
       "      <td>0.324771</td>\n",
       "      <td>0.396025</td>\n",
       "      <td>...</td>\n",
       "      <td>0.295668</td>\n",
       "      <td>0.479311</td>\n",
       "      <td>0.277554</td>\n",
       "      <td>0.346397</td>\n",
       "      <td>0.247711</td>\n",
       "      <td>0.495733</td>\n",
       "      <td>0.353455</td>\n",
       "      <td>0.153652</td>\n",
       "      <td>0.469318</td>\n",
       "      <td>0.253676</td>\n",
       "    </tr>\n",
       "    <tr>\n",
       "      <th>min</th>\n",
       "      <td>-1.582214</td>\n",
       "      <td>-0.357542</td>\n",
       "      <td>0.000000</td>\n",
       "      <td>0.000000</td>\n",
       "      <td>0.000000</td>\n",
       "      <td>0.000000</td>\n",
       "      <td>0.000000</td>\n",
       "      <td>0.000000</td>\n",
       "      <td>0.000000</td>\n",
       "      <td>0.000000</td>\n",
       "      <td>...</td>\n",
       "      <td>0.000000</td>\n",
       "      <td>0.000000</td>\n",
       "      <td>0.000000</td>\n",
       "      <td>0.000000</td>\n",
       "      <td>0.000000</td>\n",
       "      <td>0.000000</td>\n",
       "      <td>0.000000</td>\n",
       "      <td>0.000000</td>\n",
       "      <td>0.000000</td>\n",
       "      <td>0.000000</td>\n",
       "    </tr>\n",
       "    <tr>\n",
       "      <th>25%</th>\n",
       "      <td>-0.663290</td>\n",
       "      <td>-0.175183</td>\n",
       "      <td>1.000000</td>\n",
       "      <td>0.000000</td>\n",
       "      <td>0.000000</td>\n",
       "      <td>0.000000</td>\n",
       "      <td>0.000000</td>\n",
       "      <td>0.000000</td>\n",
       "      <td>0.000000</td>\n",
       "      <td>0.000000</td>\n",
       "      <td>...</td>\n",
       "      <td>0.000000</td>\n",
       "      <td>0.000000</td>\n",
       "      <td>0.000000</td>\n",
       "      <td>0.000000</td>\n",
       "      <td>0.000000</td>\n",
       "      <td>0.000000</td>\n",
       "      <td>0.000000</td>\n",
       "      <td>0.000000</td>\n",
       "      <td>0.000000</td>\n",
       "      <td>0.000000</td>\n",
       "    </tr>\n",
       "    <tr>\n",
       "      <th>50%</th>\n",
       "      <td>-0.053899</td>\n",
       "      <td>-0.114397</td>\n",
       "      <td>1.000000</td>\n",
       "      <td>0.000000</td>\n",
       "      <td>0.000000</td>\n",
       "      <td>0.000000</td>\n",
       "      <td>0.000000</td>\n",
       "      <td>0.000000</td>\n",
       "      <td>0.000000</td>\n",
       "      <td>0.000000</td>\n",
       "      <td>...</td>\n",
       "      <td>0.000000</td>\n",
       "      <td>0.000000</td>\n",
       "      <td>0.000000</td>\n",
       "      <td>0.000000</td>\n",
       "      <td>0.000000</td>\n",
       "      <td>0.000000</td>\n",
       "      <td>0.000000</td>\n",
       "      <td>0.000000</td>\n",
       "      <td>0.000000</td>\n",
       "      <td>0.000000</td>\n",
       "    </tr>\n",
       "    <tr>\n",
       "      <th>75%</th>\n",
       "      <td>0.516801</td>\n",
       "      <td>0.043647</td>\n",
       "      <td>1.000000</td>\n",
       "      <td>0.000000</td>\n",
       "      <td>0.000000</td>\n",
       "      <td>0.000000</td>\n",
       "      <td>0.000000</td>\n",
       "      <td>0.000000</td>\n",
       "      <td>0.000000</td>\n",
       "      <td>0.000000</td>\n",
       "      <td>...</td>\n",
       "      <td>0.000000</td>\n",
       "      <td>1.000000</td>\n",
       "      <td>0.000000</td>\n",
       "      <td>0.000000</td>\n",
       "      <td>0.000000</td>\n",
       "      <td>1.000000</td>\n",
       "      <td>0.000000</td>\n",
       "      <td>0.000000</td>\n",
       "      <td>1.000000</td>\n",
       "      <td>0.000000</td>\n",
       "    </tr>\n",
       "    <tr>\n",
       "      <th>max</th>\n",
       "      <td>2.620845</td>\n",
       "      <td>0.686360</td>\n",
       "      <td>2.000000</td>\n",
       "      <td>1.000000</td>\n",
       "      <td>1.000000</td>\n",
       "      <td>1.000000</td>\n",
       "      <td>1.000000</td>\n",
       "      <td>1.000000</td>\n",
       "      <td>1.000000</td>\n",
       "      <td>1.000000</td>\n",
       "      <td>...</td>\n",
       "      <td>1.000000</td>\n",
       "      <td>1.000000</td>\n",
       "      <td>1.000000</td>\n",
       "      <td>1.000000</td>\n",
       "      <td>1.000000</td>\n",
       "      <td>1.000000</td>\n",
       "      <td>1.000000</td>\n",
       "      <td>1.000000</td>\n",
       "      <td>1.000000</td>\n",
       "      <td>1.000000</td>\n",
       "    </tr>\n",
       "  </tbody>\n",
       "</table>\n",
       "<p>8 rows × 22 columns</p>\n",
       "</div>"
      ],
      "text/plain": [
       "          Mileage     EngineV  Registration     Brand_0     Brand_1  \\\n",
       "count  869.000000  869.000000    869.000000  869.000000  869.000000   \n",
       "mean    -0.033729   -0.064649      1.001151    0.092060    0.158803   \n",
       "std      0.897106    0.200660      0.408717    0.289277    0.365703   \n",
       "min     -1.582214   -0.357542      0.000000    0.000000    0.000000   \n",
       "25%     -0.663290   -0.175183      1.000000    0.000000    0.000000   \n",
       "50%     -0.053899   -0.114397      1.000000    0.000000    0.000000   \n",
       "75%      0.516801    0.043647      1.000000    0.000000    0.000000   \n",
       "max      2.620845    0.686360      2.000000    1.000000    1.000000   \n",
       "\n",
       "          Brand_2     Brand_3     Brand_4     Brand_5     Brand_6  ...  \\\n",
       "count  869.000000  869.000000  869.000000  869.000000  869.000000  ...   \n",
       "mean     0.181818    0.073648    0.109321    0.119678    0.194476  ...   \n",
       "std      0.385917    0.261347    0.312221    0.324771    0.396025  ...   \n",
       "min      0.000000    0.000000    0.000000    0.000000    0.000000  ...   \n",
       "25%      0.000000    0.000000    0.000000    0.000000    0.000000  ...   \n",
       "50%      0.000000    0.000000    0.000000    0.000000    0.000000  ...   \n",
       "75%      0.000000    0.000000    0.000000    0.000000    0.000000  ...   \n",
       "max      1.000000    1.000000    1.000000    1.000000    1.000000  ...   \n",
       "\n",
       "           Body_2      Body_3      Body_4      Body_5      Body_6  \\\n",
       "count  869.000000  869.000000  869.000000  869.000000  869.000000   \n",
       "mean     0.096663    0.356732    0.084005    0.139241    0.065593   \n",
       "std      0.295668    0.479311    0.277554    0.346397    0.247711   \n",
       "min      0.000000    0.000000    0.000000    0.000000    0.000000   \n",
       "25%      0.000000    0.000000    0.000000    0.000000    0.000000   \n",
       "50%      0.000000    0.000000    0.000000    0.000000    0.000000   \n",
       "75%      0.000000    1.000000    0.000000    0.000000    0.000000   \n",
       "max      1.000000    1.000000    1.000000    1.000000    1.000000   \n",
       "\n",
       "       Engine_Type_0  Engine_Type_1  Engine_Type_2  Engine_Type_3  \\\n",
       "count     869.000000     869.000000     869.000000     869.000000   \n",
       "mean        0.432681       0.146145       0.024166       0.326812   \n",
       "std         0.495733       0.353455       0.153652       0.469318   \n",
       "min         0.000000       0.000000       0.000000       0.000000   \n",
       "25%         0.000000       0.000000       0.000000       0.000000   \n",
       "50%         0.000000       0.000000       0.000000       0.000000   \n",
       "75%         1.000000       0.000000       0.000000       1.000000   \n",
       "max         1.000000       1.000000       1.000000       1.000000   \n",
       "\n",
       "       Engine_Type_4  \n",
       "count     869.000000  \n",
       "mean        0.069045  \n",
       "std         0.253676  \n",
       "min         0.000000  \n",
       "25%         0.000000  \n",
       "50%         0.000000  \n",
       "75%         0.000000  \n",
       "max         1.000000  \n",
       "\n",
       "[8 rows x 22 columns]"
      ]
     },
     "execution_count": 272,
     "metadata": {},
     "output_type": "execute_result"
    }
   ],
   "source": [
    "x_test.describe(include='all')"
   ]
  },
  {
   "cell_type": "markdown",
   "id": "96fa7686",
   "metadata": {},
   "source": [
    "When we compare the statistical values of the features in the test data and the whole dataset, we can see that most of it are around the same range and hence it can be considered to be representative of the whole data set"
   ]
  },
  {
   "cell_type": "markdown",
   "id": "18039626",
   "metadata": {},
   "source": [
    "5) Train a Linear Regression model using the training data with four-fold cross-validation using appropriate evaluation metric. Do this with closed form solution (using the Normal Equation or SVD) and with SGD. Perform Ridge, Lasso and Elastic Net regularization – try a few values of penalty term and describe its impact. Explore the impact of other hyperparameters, like batch size and learning rate (no need for grid search). Describe your findings. Display the training and validation loss as a function of training iterations.¶"
   ]
  },
  {
   "cell_type": "code",
   "execution_count": 273,
   "id": "2351f986",
   "metadata": {},
   "outputs": [],
   "source": [
    "from sklearn.model_selection import KFold\n",
    "from sklearn.linear_model  import LinearRegression\n",
    "from sklearn.linear_model import SGDRegressor\n",
    "import numpy as np\n",
    "from sklearn.metrics import mean_squared_error\n",
    "from sklearn.linear_model import Lasso\n",
    "from sklearn.linear_model import Ridge\n",
    "from sklearn.linear_model import ElasticNet"
   ]
  },
  {
   "cell_type": "code",
   "execution_count": 274,
   "id": "13bc437c",
   "metadata": {},
   "outputs": [],
   "source": [
    "def cross_validate_fn(model, X, y, n_splits=4):\n",
    "    kf = KFold(n_splits=n_splits)\n",
    "    scores = []\n",
    "    for train_index, test_index in kf.split(X):\n",
    "        #print(train_index,test_index)\n",
    "        X_train, X_test = X.iloc[train_index], X.iloc[test_index]\n",
    "        y_train, y_test = y.iloc[train_index], y.iloc[test_index]\n",
    "        model.fit(X_train, y_train)\n",
    "        score = model.score(X_test, y_test)\n",
    "        scores.append(score)\n",
    "    return np.array(scores)\n"
   ]
  },
  {
   "cell_type": "code",
   "execution_count": 275,
   "id": "79d0eeda",
   "metadata": {},
   "outputs": [
    {
     "name": "stdout",
     "output_type": "stream",
     "text": [
      "SVD Scores: [0.47823223 0.44711308 0.43052717 0.44345323]\n",
      "SVD Mean: 0.4498314287368139\n",
      "SVD Std: 0.017516641154046074\n"
     ]
    }
   ],
   "source": [
    "#svd\n",
    "lr = LinearRegression()\n",
    "scores = cross_validate_fn(lr, x_train, y_train)\n",
    "print(\"SVD Scores:\", scores)\n",
    "print(\"SVD Mean:\", np.mean(scores))\n",
    "print(\"SVD Std:\", np.std(scores))"
   ]
  },
  {
   "cell_type": "code",
   "execution_count": 276,
   "id": "42012a33",
   "metadata": {},
   "outputs": [
    {
     "name": "stdout",
     "output_type": "stream",
     "text": [
      "SGD Scores: [0.46257297 0.44204989 0.42361398 0.44283164]\n",
      "SGD Mean: 0.4427671177043977\n",
      "SGD Std: 0.013780721726968821\n"
     ]
    }
   ],
   "source": [
    "sgd = SGDRegressor(max_iter=1000, tol=1e-3)\n",
    "scores = cross_validate_fn(sgd, x_train, y_train)\n",
    "print(\"SGD Scores:\", scores)\n",
    "print(\"SGD Mean:\", np.mean(scores))\n",
    "print(\"SGD Std:\", np.std(scores))"
   ]
  },
  {
   "cell_type": "code",
   "execution_count": 277,
   "id": "b00c577f",
   "metadata": {},
   "outputs": [],
   "source": [
    "def regularizationmodels(model, reg_tech, n_iter, lr):\n",
    "    if (model == 'sgd'):\n",
    "        #print(\"check\")\n",
    "        m=SGDRegressor(alpha=lr, penalty=reg_tech, max_iter=n_iter, tol=1e-3)\n",
    "    if (model== 'svd' and reg_tech == 'l1'):\n",
    "        print(lr)\n",
    "        m=Lasso(alpha=lr)\n",
    "        #print(\"check\")\n",
    "    if (model== 'svd' and reg_tech == 'l2'):\n",
    "        m=Ridge(alpha=lr)\n",
    "    if (model== 'svd' and reg_tech == 'elasticnet'):\n",
    "        m=ElasticNet(alpha=lr)\n",
    "    kf = KFold(n_splits=4)\n",
    "    scores = []\n",
    "    for train_index, test_index in kf.split(x_train):\n",
    "        X_train, X_test = x_train.iloc[train_index], x_train.iloc[test_index]\n",
    "        Y_train, Y_test = y_train.iloc[train_index], y_train.iloc[test_index]\n",
    "        train_loss_list=[]\n",
    "        val_loss_list=[]\n",
    "        for i in range(n_iter):\n",
    "            #m.fit(X_train, Y_train)\n",
    "\n",
    "            # Train the model and update the weights\n",
    "            if (model== 'svd'):\n",
    "                #print(\"check1\")\n",
    "                #since Lasso, Ridge and ElasticNet do not have partialfit\n",
    "                m.fit(X_train, Y_train)\n",
    "            elif(model =='sgd'):\n",
    "                m.partial_fit(X_train, Y_train)\n",
    "\n",
    "            # Calculate the training loss\n",
    "            y_train_pred = m.predict(X_train)\n",
    "            train_loss = mean_squared_error(Y_train, y_train_pred)\n",
    "            train_loss_list.append(train_loss)\n",
    "\n",
    "            # Calculate the validation loss\n",
    "            y_val_pred = m.predict(X_test)\n",
    "            val_loss = mean_squared_error(Y_test, y_val_pred)\n",
    "            val_loss_list.append(val_loss)\n",
    "        score = m.score(X_test, Y_test)\n",
    "        scores.append(score)\n",
    "    plt.plot(range(n_iter), train_loss_list, label='Training Loss')\n",
    "    plt.plot(range(n_iter), val_loss_list, label='Validation Loss')\n",
    "    plt.xlabel('Iterations')\n",
    "    plt.ylabel('Loss')\n",
    "    plt.legend()\n",
    "    plt.show()\n",
    "        \n",
    "    print(\"Scores:\", scores)\n",
    "    print(\"Mean Score:\", np.mean(scores))\n",
    "    print(\"Score Std:\", np.std(scores))\n",
    "# Plot the training and validation loss\n",
    "   "
   ]
  },
  {
   "cell_type": "code",
   "execution_count": 278,
   "id": "2400d130",
   "metadata": {},
   "outputs": [
    {
     "name": "stdout",
     "output_type": "stream",
     "text": [
      "0.01\n"
     ]
    },
    {
     "data": {
      "image/png": "[encoded data removed]",
      "text/plain": [
       "<Figure size 432x288 with 1 Axes>"
      ]
     },
     "metadata": {
      "needs_background": "light"
     },
     "output_type": "display_data"
    },
    {
     "name": "stdout",
     "output_type": "stream",
     "text": [
      "Scores: [0.47598932491043167, 0.44091601305696493, 0.42870859794661653, 0.4575032494601057]\n",
      "Mean Score: 0.4507792963435297\n",
      "Score Std: 0.017784523965912458\n"
     ]
    }
   ],
   "source": [
    "regularizationmodels('svd', 'l1',100, 0.01)"
   ]
  },
  {
   "cell_type": "code",
   "execution_count": 279,
   "id": "1a28014b",
   "metadata": {},
   "outputs": [
    {
     "data": {
      "image/png": "[encoded data removed]",
      "text/plain": [
       "<Figure size 432x288 with 1 Axes>"
      ]
     },
     "metadata": {
      "needs_background": "light"
     },
     "output_type": "display_data"
    },
    {
     "name": "stdout",
     "output_type": "stream",
     "text": [
      "Scores: [0.4803754219233478, 0.4435996506662675, 0.4305458501764774, 0.44363035855410415]\n",
      "Mean Score: 0.44953782033004924\n",
      "Score Std: 0.018586369776877384\n"
     ]
    }
   ],
   "source": [
    "regularizationmodels('svd', 'l2',500, 0.1)"
   ]
  },
  {
   "cell_type": "code",
   "execution_count": 280,
   "id": "ecb0f533",
   "metadata": {},
   "outputs": [
    {
     "data": {
      "image/png": "[encoded data removed]",
      "text/plain": [
       "<Figure size 432x288 with 1 Axes>"
      ]
     },
     "metadata": {
      "needs_background": "light"
     },
     "output_type": "display_data"
    },
    {
     "name": "stdout",
     "output_type": "stream",
     "text": [
      "Scores: [0.47558289958285327, 0.4435738242869768, 0.4297936725968803, 0.44720861532214273]\n",
      "Mean Score: 0.4490397529472133\n",
      "Score Std: 0.016644666437730916\n"
     ]
    }
   ],
   "source": [
    "regularizationmodels('svd', 'l2',1000, 10)"
   ]
  },
  {
   "cell_type": "code",
   "execution_count": 281,
   "id": "0dc6c3d2",
   "metadata": {},
   "outputs": [
    {
     "data": {
      "image/png": "[encoded data removed]",
      "text/plain": [
       "<Figure size 432x288 with 1 Axes>"
      ]
     },
     "metadata": {
      "needs_background": "light"
     },
     "output_type": "display_data"
    },
    {
     "name": "stdout",
     "output_type": "stream",
     "text": [
      "Scores: [0.30918809350832, 0.31184376313493256, 0.30621298186609214, 0.31340688134059125]\n",
      "Mean Score: 0.31016292996248396\n",
      "Score Std: 0.0027340819653808917\n"
     ]
    }
   ],
   "source": [
    "regularizationmodels('svd', 'elasticnet',100, 0.1)"
   ]
  },
  {
   "cell_type": "code",
   "execution_count": 282,
   "id": "5a93b1e4",
   "metadata": {},
   "outputs": [
    {
     "data": {
      "image/png": "[encoded data removed]",
      "text/plain": [
       "<Figure size 432x288 with 1 Axes>"
      ]
     },
     "metadata": {
      "needs_background": "light"
     },
     "output_type": "display_data"
    },
    {
     "name": "stdout",
     "output_type": "stream",
     "text": [
      "Scores: [0.4816755654975725, 0.44468662768202616, 0.43206968472771146, 0.4480837044990913]\n",
      "Mean Score: 0.45162889560160036\n",
      "Score Std: 0.018344812384344735\n"
     ]
    }
   ],
   "source": [
    "regularizationmodels('sgd', 'l1',100, 0.001)"
   ]
  },
  {
   "cell_type": "code",
   "execution_count": 283,
   "id": "cbf3c7db",
   "metadata": {},
   "outputs": [
    {
     "data": {
      "image/png": "[encoded data removed]",
      "text/plain": [
       "<Figure size 432x288 with 1 Axes>"
      ]
     },
     "metadata": {
      "needs_background": "light"
     },
     "output_type": "display_data"
    },
    {
     "name": "stdout",
     "output_type": "stream",
     "text": [
      "Scores: [0.48112719758570455, 0.4441340257635793, 0.43331157838876766, 0.44433569243433035]\n",
      "Mean Score: 0.4507271235430955\n",
      "Score Std: 0.018109286600849966\n"
     ]
    }
   ],
   "source": [
    "regularizationmodels('sgd', 'l1',100, 0.00001)"
   ]
  },
  {
   "cell_type": "code",
   "execution_count": 284,
   "id": "92c5798f",
   "metadata": {},
   "outputs": [
    {
     "data": {
      "image/png": "[encoded data removed]",
      "text/plain": [
       "<Figure size 432x288 with 1 Axes>"
      ]
     },
     "metadata": {
      "needs_background": "light"
     },
     "output_type": "display_data"
    },
    {
     "name": "stdout",
     "output_type": "stream",
     "text": [
      "Scores: [0.4802347479977064, 0.4437422238339167, 0.4334555491517986, 0.44352937370141976]\n",
      "Mean Score: 0.45024047367121034\n",
      "Score Std: 0.017809100884434468\n"
     ]
    }
   ],
   "source": [
    "regularizationmodels('sgd', 'l2',100, 0.00001)"
   ]
  },
  {
   "cell_type": "code",
   "execution_count": 285,
   "id": "d6b7a0db",
   "metadata": {},
   "outputs": [
    {
     "data": {
      "image/png": "[encoded data removed]",
      "text/plain": [
       "<Figure size 432x288 with 1 Axes>"
      ]
     },
     "metadata": {
      "needs_background": "light"
     },
     "output_type": "display_data"
    },
    {
     "name": "stdout",
     "output_type": "stream",
     "text": [
      "Scores: [0.4802672343178832, 0.4440073011323763, 0.431797429488313, 0.4438968791483523]\n",
      "Mean Score: 0.44999221102173126\n",
      "Score Std: 0.01817002564432484\n"
     ]
    }
   ],
   "source": [
    "regularizationmodels('sgd', 'elasticnet',1000, 0.000001)"
   ]
  },
  {
   "cell_type": "markdown",
   "id": "dc49be07",
   "metadata": {},
   "source": [
    "Validation loss is lesser than training loss indicating overfitting"
   ]
  },
  {
   "cell_type": "markdown",
   "id": "55b4a80a",
   "metadata": {},
   "source": [
    "6) Repeat the previous step with polynomial regression. Using validation loss, explore if your model overfits/underfits the data."
   ]
  },
  {
   "cell_type": "code",
   "execution_count": 286,
   "id": "fa1d5136",
   "metadata": {},
   "outputs": [],
   "source": [
    "from sklearn.preprocessing import PolynomialFeatures\n",
    "from sklearn.linear_model import Lasso\n",
    "from sklearn.linear_model import Ridge\n",
    "from sklearn.pipeline import make_pipeline"
   ]
  },
  {
   "cell_type": "code",
   "execution_count": 287,
   "id": "cd515ecf",
   "metadata": {},
   "outputs": [],
   "source": [
    "def poly_fn(model,reg_tech, n_iter, lr,deg):\n",
    "    if (model == 'sgd'):\n",
    "        #print(\"check\")\n",
    "        m=SGDRegressor(alpha=lr, penalty=reg_tech, max_iter=n_iter, tol=1e-3)\n",
    "    if (model== 'svd' and reg_tech == 'l1'):\n",
    "        m=Lasso(alpha=lr)\n",
    "        #print(\"check\")\n",
    "    if (model== 'svd' and reg_tech == 'l2'):\n",
    "        m=Ridge(alpha=lr)\n",
    "    if (model== 'svd' and reg_tech == 'elasticnet'):\n",
    "        m=ElasticNet(alpha=lr)\n",
    "    kf = KFold(n_splits=4)\n",
    "    scores = []\n",
    "    poly_features = PolynomialFeatures(degree=deg)\n",
    "    for train_index, test_index in kf.split(x_train):\n",
    "        X_train, X_test = x_train.iloc[train_index], x_train.iloc[test_index]\n",
    "        Y_train, Y_test = y_train.iloc[train_index], y_train.iloc[test_index]\n",
    "        train_loss_list=[]\n",
    "        val_loss_list=[]\n",
    "        x_train_poly = poly_features.fit_transform(X_train)\n",
    "        x_test_poly = poly_features.fit_transform(X_test)\n",
    "        for i in range(n_iter):\n",
    "\n",
    "            # Train the model and update the weights\n",
    "            if (model== 'svd'):\n",
    "                #print(\"check1\")\n",
    "                #since Lasso, Ridge and ElasticNet do not have partialfit\n",
    "                m.fit(x_train_poly, Y_train)\n",
    "            elif(model =='sgd'):\n",
    "                m.partial_fit(x_train_poly, Y_train)\n",
    "\n",
    "            # Calculate the training loss\n",
    "            y_train_pred = m.predict(x_train_poly)\n",
    "            train_loss = mean_squared_error(Y_train, y_train_pred)\n",
    "            train_loss_list.append(train_loss)\n",
    "\n",
    "            # Calculate the validation loss\n",
    "            y_val_pred = m.predict(x_test_poly)\n",
    "            val_loss = mean_squared_error(Y_test, y_val_pred)\n",
    "            val_loss_list.append(val_loss)\n",
    "        score = m.score(x_test_poly, Y_test)\n",
    "        scores.append(score)\n",
    "    plt.plot(range(n_iter), train_loss_list, label='Training Loss')\n",
    "    plt.plot(range(n_iter), val_loss_list, label='Validation Loss')\n",
    "    plt.xlabel('Iterations')\n",
    "    plt.ylabel('Loss')\n",
    "    plt.legend()\n",
    "    plt.show()\n",
    "        \n",
    "        \n",
    "    print(\"Scores:\", scores)\n",
    "    print(\"Mean Score:\", np.mean(scores))\n",
    "    print(\"Score Std:\", np.std(scores))\n",
    "\n",
    "   "
   ]
  },
  {
   "cell_type": "code",
   "execution_count": 288,
   "id": "71b77cea",
   "metadata": {},
   "outputs": [
    {
     "data": {
      "image/png": "[encoded data removed]",
      "text/plain": [
       "<Figure size 432x288 with 1 Axes>"
      ]
     },
     "metadata": {
      "needs_background": "light"
     },
     "output_type": "display_data"
    },
    {
     "name": "stdout",
     "output_type": "stream",
     "text": [
      "Scores: [0.6319175344751922, 0.6019421444505535, 0.6044924194707585, 0.6117960145673296]\n",
      "Mean Score: 0.6125370282409585\n",
      "Score Std: 0.01175925609846814\n"
     ]
    }
   ],
   "source": [
    "poly_fn('svd','l1',500,0.01,2)"
   ]
  },
  {
   "cell_type": "code",
   "execution_count": 289,
   "id": "3b5c1ff2",
   "metadata": {},
   "outputs": [
    {
     "data": {
      "image/png": "[encoded data removed]",
      "text/plain": [
       "<Figure size 432x288 with 1 Axes>"
      ]
     },
     "metadata": {
      "needs_background": "light"
     },
     "output_type": "display_data"
    },
    {
     "name": "stdout",
     "output_type": "stream",
     "text": [
      "Scores: [0.6897331881952009, 0.6841272904097095, 0.6984794261021006, 0.6620260294889022]\n",
      "Mean Score: 0.6835914835489783\n",
      "Score Std: 0.013460379519498697\n"
     ]
    }
   ],
   "source": [
    "poly_fn('sgd','l1',500,0.001,3)"
   ]
  },
  {
   "cell_type": "code",
   "execution_count": 290,
   "id": "bbbbfbb7",
   "metadata": {},
   "outputs": [
    {
     "data": {
      "image/png": "[encoded data removed]",
      "text/plain": [
       "<Figure size 432x288 with 1 Axes>"
      ]
     },
     "metadata": {
      "needs_background": "light"
     },
     "output_type": "display_data"
    },
    {
     "name": "stdout",
     "output_type": "stream",
     "text": [
      "Scores: [0.6343922208745755, 0.628750159664802, 0.6138343542479905, 0.5775236784070668]\n",
      "Mean Score: 0.6136251032986086\n",
      "Score Std: 0.02215511886480195\n"
     ]
    }
   ],
   "source": [
    "poly_fn('svd','l2',100,0.01,2)"
   ]
  },
  {
   "cell_type": "code",
   "execution_count": 292,
   "id": "4886c913",
   "metadata": {},
   "outputs": [
    {
     "data": {
      "image/png": "[encoded data removed]",
      "text/plain": [
       "<Figure size 432x288 with 1 Axes>"
      ]
     },
     "metadata": {
      "needs_background": "light"
     },
     "output_type": "display_data"
    },
    {
     "name": "stdout",
     "output_type": "stream",
     "text": [
      "Scores: [0.6801427381190797, 0.6757965969848638, 0.6803923377233299, 0.6405551038820685]\n",
      "Mean Score: 0.6692216941773355\n",
      "Score Std: 0.016651240374926372\n"
     ]
    }
   ],
   "source": [
    "poly_fn('sgd','l2',100,0.01,3)"
   ]
  },
  {
   "cell_type": "code",
   "execution_count": 293,
   "id": "a4fc57cd",
   "metadata": {},
   "outputs": [
    {
     "data": {
      "image/png": "[encoded data removed]",
      "text/plain": [
       "<Figure size 432x288 with 1 Axes>"
      ]
     },
     "metadata": {
      "needs_background": "light"
     },
     "output_type": "display_data"
    },
    {
     "name": "stdout",
     "output_type": "stream",
     "text": [
      "Scores: [0.6846402773340392, 0.6732235795049306, 0.6756799955896167, 0.6428089395900907]\n",
      "Mean Score: 0.6690881980046692\n",
      "Score Std: 0.01575610810004201\n"
     ]
    }
   ],
   "source": [
    "poly_fn('sgd','l2',500,0.01,3)"
   ]
  },
  {
   "cell_type": "markdown",
   "id": "ee478cd3",
   "metadata": {},
   "source": [
    "3-degree Polynomial Model with SGD Regression and Lasso regularization(iterations=500 and learning rate=0.001) has a score of 0.68 and the validation loss is close to training loss and doesn't sway away from training losses."
   ]
  },
  {
   "cell_type": "code",
   "execution_count": 296,
   "id": "22aa2611",
   "metadata": {},
   "outputs": [],
   "source": [
    "poly_features = PolynomialFeatures(degree=3)\n",
    "scores=[]\n",
    "kf = KFold(n_splits=4)\n",
    "finalmodel=SGDRegressor(alpha=0.001, penalty='l1', max_iter=500, tol=1e-3)\n",
    "for train_index, test_index in kf.split(x_train):\n",
    "    X_train, X_test = x_train.iloc[train_index], x_train.iloc[test_index]\n",
    "    Y_train, Y_test = y_train.iloc[train_index], y_train.iloc[test_index]\n",
    "    train_loss_list=[]\n",
    "    val_loss_list=[]\n",
    "    x_train_poly = poly_features.fit_transform(X_train)\n",
    "    x_test_poly = poly_features.fit_transform(X_test)\n",
    "    for i in range(500):\n",
    "        finalmodel.partial_fit(x_train_poly, Y_train)\n",
    "\n",
    "                # Calculate the training loss\n",
    "        y_train_pred = finalmodel.predict(x_train_poly)\n",
    "        train_loss = mean_squared_error(Y_train, y_train_pred)\n",
    "        train_loss_list.append(train_loss)\n",
    "\n",
    "        # Calculate the validation loss\n",
    "        y_val_pred = finalmodel.predict(x_test_poly)\n",
    "        val_loss = mean_squared_error(Y_test, y_val_pred)\n",
    "        val_loss_list.append(val_loss)\n",
    "    score = finalmodel.score(x_test_poly, Y_test)\n",
    "    scores.append(score)"
   ]
  },
  {
   "cell_type": "markdown",
   "id": "826cc3ee",
   "metadata": {},
   "source": [
    "7) Make predictions of the labels on the test data, using the trained model with chosenhyperparameters. Summarize performance using the appropriate evaluation metric. Discuss the results. Include thoughts about what further can be explored to increase performance."
   ]
  },
  {
   "cell_type": "code",
   "execution_count": 299,
   "id": "f3e824d9",
   "metadata": {},
   "outputs": [],
   "source": [
    "y_test_pred=finalmodel.predict(poly_features.fit_transform(x_test))"
   ]
  },
  {
   "cell_type": "code",
   "execution_count": 300,
   "id": "c1ec4b8c",
   "metadata": {},
   "outputs": [
    {
     "data": {
      "text/plain": [
       "0.18515466625441857"
      ]
     },
     "execution_count": 300,
     "metadata": {},
     "output_type": "execute_result"
    }
   ],
   "source": [
    "mean_squared_error(y_test, y_test_pred)"
   ]
  },
  {
   "cell_type": "code",
   "execution_count": 306,
   "id": "cf9b6138",
   "metadata": {},
   "outputs": [
    {
     "data": {
      "text/plain": [
       "count    869.000000\n",
       "mean      -0.066982\n",
       "std        0.764425\n",
       "min       -0.718771\n",
       "25%       -0.470791\n",
       "50%       -0.311953\n",
       "75%        0.013470\n",
       "max        4.271577\n",
       "Name: Price, dtype: float64"
      ]
     },
     "execution_count": 306,
     "metadata": {},
     "output_type": "execute_result"
    }
   ],
   "source": [
    "y_test.describe()"
   ]
  },
  {
   "cell_type": "code",
   "execution_count": 307,
   "id": "97a828f2",
   "metadata": {},
   "outputs": [
    {
     "data": {
      "text/plain": [
       "3.8003017358084596"
      ]
     },
     "execution_count": 307,
     "metadata": {},
     "output_type": "execute_result"
    }
   ],
   "source": [
    "y_test_pred.max()"
   ]
  },
  {
   "cell_type": "code",
   "execution_count": 308,
   "id": "efed4a48",
   "metadata": {},
   "outputs": [
    {
     "data": {
      "text/plain": [
       "-0.029390350431055052"
      ]
     },
     "execution_count": 308,
     "metadata": {},
     "output_type": "execute_result"
    }
   ],
   "source": [
    "y_test_pred.mean()"
   ]
  },
  {
   "cell_type": "code",
   "execution_count": 301,
   "id": "b53c9d74",
   "metadata": {},
   "outputs": [],
   "source": [
    "#trying out for Lasso model as well for comparison\n",
    "final_model_l = Lasso(alpha=0.01, max_iter=100)\n",
    "kf = KFold(n_splits=4)\n",
    "scores = []\n",
    "for train_index, test_index in kf.split(x_train):\n",
    "    #print(train_index,test_index)\n",
    "    X_train, X_test = x_train.iloc[train_index], x_train.iloc[test_index]\n",
    "    Y_train, Y_test = y_train.iloc[train_index], y_train.iloc[test_index]\n",
    "    final_model_l.fit(X_train, Y_train)"
   ]
  },
  {
   "cell_type": "code",
   "execution_count": 302,
   "id": "ad4f56e4",
   "metadata": {},
   "outputs": [],
   "source": [
    "y_test_pred_l=final_model_l.predict(x_test)"
   ]
  },
  {
   "cell_type": "code",
   "execution_count": 303,
   "id": "0df51821",
   "metadata": {},
   "outputs": [
    {
     "data": {
      "text/plain": [
       "0.3122913776724388"
      ]
     },
     "execution_count": 303,
     "metadata": {},
     "output_type": "execute_result"
    }
   ],
   "source": [
    "mean_squared_error(y_test, y_test_pred_l)"
   ]
  },
  {
   "cell_type": "markdown",
   "id": "2b461d8c",
   "metadata": {},
   "source": [
    "The polynomial model with degree 3 is able to predict the car prices with a loss of 0.18\n",
    "We can improve this performance using the following steps:-\n",
    ". Using a better alternative to replace outliers instead of the 0.99 quantile\n",
    ". Refining the replacement for NA values\n",
    ". Using the features Year and Model \n",
    ". trying different train-test split"
   ]
  }
 ],
 "metadata": {
  "kernelspec": {
   "display_name": "Python 3 (ipykernel)",
   "language": "python",
   "name": "python3"
  },
  "language_info": {
   "codemirror_mode": {
    "name": "ipython",
    "version": 3
   },
   "file_extension": ".py",
   "mimetype": "text/x-python",
   "name": "python",
   "nbconvert_exporter": "python",
   "pygments_lexer": "ipython3",
   "version": "3.9.12"
  }
 },
 "nbformat": 4,
 "nbformat_minor": 5
}
